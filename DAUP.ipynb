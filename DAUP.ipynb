{
  "nbformat": 4,
  "nbformat_minor": 0,
  "metadata": {
    "colab": {
      "provenance": [],
      "authorship_tag": "ABX9TyMTnAYpECro6cj2FR+FWAJ9",
      "include_colab_link": true
    },
    "kernelspec": {
      "name": "python3",
      "display_name": "Python 3"
    },
    "language_info": {
      "name": "python"
    }
  },
  "cells": [
    {
      "cell_type": "markdown",
      "metadata": {
        "id": "view-in-github",
        "colab_type": "text"
      },
      "source": [
        "<a href=\"https://colab.research.google.com/github/Kavya-K-S/DAUP/blob/main/DAUP.ipynb\" target=\"_parent\"><img src=\"https://colab.research.google.com/assets/colab-badge.svg\" alt=\"Open In Colab\"/></a>"
      ]
    },
    {
      "cell_type": "code",
      "execution_count": null,
      "metadata": {
        "colab": {
          "base_uri": "https://localhost:8080/"
        },
        "id": "LsMY_xXjd2eE",
        "outputId": "616a0416-2b2d-4eec-a325-a21298c9b3c3"
      },
      "outputs": [
        {
          "output_type": "stream",
          "name": "stdout",
          "text": [
            "Enter a number :9\n",
            "result 1.1111111111111112\n"
          ]
        }
      ],
      "source": [
        "try:\n",
        "  x=int(input(\"Enter a number :\"))\n",
        "  y=10/x\n",
        "  print(\"result\",y)\n",
        "except Exception as e:\n",
        "  print(\"Error occured\",e)\n",
        "except ZeroDivisionError:\n",
        "  print(\"you cannot divide by zero\")"
      ]
    },
    {
      "cell_type": "code",
      "source": [
        "try:\n",
        "  a=int(input(\"Enter numerator :\"))\n",
        "  b=int(input(\"Enter deno :\"))\n",
        "  result=a/b\n",
        "  print(result)\n",
        "except ValueError:\n",
        "  print(\"pls enter valid integer\")\n",
        "except ZeroDivisionError:\n",
        "  print(\"Zero division ewrror\")\n"
      ],
      "metadata": {
        "colab": {
          "base_uri": "https://localhost:8080/"
        },
        "id": "EJVxz8FJfMig",
        "outputId": "1d18ef61-855e-42cb-d53d-a0cd29e53833"
      },
      "execution_count": null,
      "outputs": [
        {
          "output_type": "stream",
          "name": "stdout",
          "text": [
            "Enter numerator :8\n",
            "Enter deno :9\n",
            "0.8888888888888888\n"
          ]
        }
      ]
    },
    {
      "cell_type": "code",
      "source": [
        "try:\n",
        "   f=open(\"sample.txt\",\"r\")\n",
        "   content=f.read()\n",
        "except FileNotFoundError as e:\n",
        "    print(e)"
      ],
      "metadata": {
        "colab": {
          "base_uri": "https://localhost:8080/"
        },
        "id": "JDr1tOJDg9vX",
        "outputId": "17cc0f1f-4a81-4b99-a115-49c771e63e38"
      },
      "execution_count": null,
      "outputs": [
        {
          "output_type": "stream",
          "name": "stdout",
          "text": [
            "[Errno 2] No such file or directory: 'sample.txt'\n"
          ]
        }
      ]
    },
    {
      "cell_type": "code",
      "source": [
        "def check_age(age):\n",
        "  if age<0:\n",
        "    raise (\"negative age\")\n",
        "  print(age)\n",
        "try:\n",
        "  age=int(input(\"enter age:\"))\n",
        "  check_age(age)\n",
        "except:\n",
        "  print(\"Error\")\n"
      ],
      "metadata": {
        "colab": {
          "base_uri": "https://localhost:8080/"
        },
        "id": "Zk5kZaVIjChe",
        "outputId": "48aeee64-85c8-4272-8f85-37ee0819f430"
      },
      "execution_count": null,
      "outputs": [
        {
          "output_type": "stream",
          "name": "stdout",
          "text": [
            "enter age:-8\n",
            "Error\n"
          ]
        }
      ]
    },
    {
      "cell_type": "markdown",
      "source": [],
      "metadata": {
        "id": "rhfH3CUVmO_H"
      }
    },
    {
      "cell_type": "code",
      "source": [
        "try:\n",
        "  a=input(\"enter a string :\")\n",
        "  print(int(a))\n",
        "except Exception as e:\n",
        "  print(e)"
      ],
      "metadata": {
        "colab": {
          "base_uri": "https://localhost:8080/"
        },
        "id": "cEREfAxqmIce",
        "outputId": "1808faff-a3e1-47e8-b0d1-81db7f98483f"
      },
      "execution_count": null,
      "outputs": [
        {
          "output_type": "stream",
          "name": "stdout",
          "text": [
            "enter a string :asd\n",
            "invalid literal for int() with base 10: 'asd'\n"
          ]
        }
      ]
    },
    {
      "cell_type": "code",
      "source": [
        "try:\n",
        "  a=int(input(\"Enter a number :\"))\n",
        "  b=int(input(\"Enter another number :\"))\n",
        "  s=a+b\n",
        "  print(\"sum=\",s)\n",
        "  d=a+b\n",
        "  print(\"Difference=\",d)\n",
        "  p=a*b\n",
        "  print(\"product=\",p)\n",
        "  q=a/b\n",
        "  print(\"quotient=\",q)\n",
        "except ZeroDivisionError as e:\n",
        "  print(e)\n",
        "except ValueError as e:\n",
        "  print(e)\n",
        "except Exception as e:\n",
        "  print(e)\n"
      ],
      "metadata": {
        "colab": {
          "base_uri": "https://localhost:8080/"
        },
        "id": "4hzVLlmymxUV",
        "outputId": "d9a9c5e0-b381-45e5-bf21-3b1e502f849a"
      },
      "execution_count": null,
      "outputs": [
        {
          "output_type": "stream",
          "name": "stdout",
          "text": [
            "Enter a number :5\n",
            "Enter another number :0\n",
            "sum= 5\n",
            "Difference= 5\n",
            "product= 0\n",
            "division by zero\n"
          ]
        }
      ]
    },
    {
      "cell_type": "code",
      "source": [
        "class InvalidMark(Exception):\n",
        "   pass\n",
        "\n",
        "def check_mark(m):\n",
        "  if m<0 or m>100:\n",
        "    raise InvalidMark(\"The mark is invalid\")\n",
        "  else:\n",
        "    return \"valid mark\"\n",
        "\n",
        "m=int(input(\"Enter the mark :\"))\n",
        "check_mark(m)"
      ],
      "metadata": {
        "colab": {
          "base_uri": "https://localhost:8080/",
          "height": 315
        },
        "id": "zTK0XOakpJ86",
        "outputId": "66fc5e01-2c6f-40d9-8ac5-bc087140754b"
      },
      "execution_count": null,
      "outputs": [
        {
          "name": "stdout",
          "output_type": "stream",
          "text": [
            "Enter the mark :789\n"
          ]
        },
        {
          "output_type": "error",
          "ename": "InvalidMark",
          "evalue": "The mark is invalid",
          "traceback": [
            "\u001b[0;31m---------------------------------------------------------------------------\u001b[0m",
            "\u001b[0;31mInvalidMark\u001b[0m                               Traceback (most recent call last)",
            "\u001b[0;32m/tmp/ipython-input-40-4045138926.py\u001b[0m in \u001b[0;36m<cell line: 0>\u001b[0;34m()\u001b[0m\n\u001b[1;32m      9\u001b[0m \u001b[0;34m\u001b[0m\u001b[0m\n\u001b[1;32m     10\u001b[0m \u001b[0mm\u001b[0m\u001b[0;34m=\u001b[0m\u001b[0mint\u001b[0m\u001b[0;34m(\u001b[0m\u001b[0minput\u001b[0m\u001b[0;34m(\u001b[0m\u001b[0;34m\"Enter the mark :\"\u001b[0m\u001b[0;34m)\u001b[0m\u001b[0;34m)\u001b[0m\u001b[0;34m\u001b[0m\u001b[0;34m\u001b[0m\u001b[0m\n\u001b[0;32m---> 11\u001b[0;31m \u001b[0mcheck_mark\u001b[0m\u001b[0;34m(\u001b[0m\u001b[0mm\u001b[0m\u001b[0;34m)\u001b[0m\u001b[0;34m\u001b[0m\u001b[0;34m\u001b[0m\u001b[0m\n\u001b[0m",
            "\u001b[0;32m/tmp/ipython-input-40-4045138926.py\u001b[0m in \u001b[0;36mcheck_mark\u001b[0;34m(m)\u001b[0m\n\u001b[1;32m      4\u001b[0m \u001b[0;32mdef\u001b[0m \u001b[0mcheck_mark\u001b[0m\u001b[0;34m(\u001b[0m\u001b[0mm\u001b[0m\u001b[0;34m)\u001b[0m\u001b[0;34m:\u001b[0m\u001b[0;34m\u001b[0m\u001b[0;34m\u001b[0m\u001b[0m\n\u001b[1;32m      5\u001b[0m   \u001b[0;32mif\u001b[0m \u001b[0mm\u001b[0m\u001b[0;34m<\u001b[0m\u001b[0;36m0\u001b[0m \u001b[0;32mor\u001b[0m \u001b[0mm\u001b[0m\u001b[0;34m>\u001b[0m\u001b[0;36m100\u001b[0m\u001b[0;34m:\u001b[0m\u001b[0;34m\u001b[0m\u001b[0;34m\u001b[0m\u001b[0m\n\u001b[0;32m----> 6\u001b[0;31m     \u001b[0;32mraise\u001b[0m \u001b[0mInvalidMark\u001b[0m\u001b[0;34m(\u001b[0m\u001b[0;34m\"The mark is invalid\"\u001b[0m\u001b[0;34m)\u001b[0m\u001b[0;34m\u001b[0m\u001b[0;34m\u001b[0m\u001b[0m\n\u001b[0m\u001b[1;32m      7\u001b[0m   \u001b[0;32melse\u001b[0m\u001b[0;34m:\u001b[0m\u001b[0;34m\u001b[0m\u001b[0;34m\u001b[0m\u001b[0m\n\u001b[1;32m      8\u001b[0m     \u001b[0;32mreturn\u001b[0m \u001b[0;34m\"valid mark\"\u001b[0m\u001b[0;34m\u001b[0m\u001b[0;34m\u001b[0m\u001b[0m\n",
            "\u001b[0;31mInvalidMark\u001b[0m: The mark is invalid"
          ]
        }
      ]
    },
    {
      "cell_type": "code",
      "source": [
        "try:\n",
        "  a=int(input(\"Enter a number :\"))\n",
        "  b=int(input(\"Enter another number :\"))\n",
        "  s=a+b\n",
        "  print(\"sum=\",s)\n",
        "  d=a+b\n",
        "  print(\"Difference=\",d)\n",
        "  p=a*b\n",
        "  print(\"product=\",p)\n",
        "  q=a/b\n",
        "  print(\"quotient=\",q)\n",
        "except ZeroDivisionError as e:\n",
        "  print(e)\n",
        "except ValueError as e:\n",
        "  print(e)\n",
        "except Exception as e:\n",
        "  print(e)\n",
        "finally:\n",
        "  print(\"Calculation completed\")"
      ],
      "metadata": {
        "colab": {
          "base_uri": "https://localhost:8080/"
        },
        "id": "Dc9qHDBJr55W",
        "outputId": "82c3a30e-932d-450b-e70e-69e54a93037e"
      },
      "execution_count": null,
      "outputs": [
        {
          "output_type": "stream",
          "name": "stdout",
          "text": [
            "Enter a number :6\n",
            "Enter another number :9\n",
            "sum= 15\n",
            "Difference= 15\n",
            "product= 54\n",
            "quotient= 0.6666666666666666\n",
            "Calculation completed\n"
          ]
        }
      ]
    },
    {
      "cell_type": "code",
      "source": [
        "def age_check(age):\n",
        "  if age<0 or age>150:\n",
        "    raise ValueError(\"Unrealistic age\")\n",
        "  else:\n",
        "    print(\"valid age\")\n",
        "try:\n",
        "  age=int(input(\"Enter your age :\"))\n",
        "  age_check(age)\n",
        "except ValueError as e:\n",
        "  print(e)"
      ],
      "metadata": {
        "colab": {
          "base_uri": "https://localhost:8080/"
        },
        "id": "LErV1Ja8sUbP",
        "outputId": "3ab7e7ff-67b9-4c5f-c1b4-38dec166b8c0"
      },
      "execution_count": null,
      "outputs": [
        {
          "output_type": "stream",
          "name": "stdout",
          "text": [
            "Enter your age :777\n",
            "Unrealistic age\n"
          ]
        }
      ]
    },
    {
      "cell_type": "code",
      "source": [
        "a=1\n",
        "print(type(a))\n",
        "def display():\n",
        "  pass\n",
        "print(type(display))"
      ],
      "metadata": {
        "colab": {
          "base_uri": "https://localhost:8080/"
        },
        "id": "Uq-ig5BMc6qe",
        "outputId": "236854cf-79cb-4945-cd8e-afa5ac2967cf"
      },
      "execution_count": null,
      "outputs": [
        {
          "output_type": "stream",
          "name": "stdout",
          "text": [
            "<class 'int'>\n",
            "<class 'function'>\n"
          ]
        }
      ]
    },
    {
      "cell_type": "code",
      "source": [
        "class Student:\n",
        "  def __init__(self,name,age):\n",
        "      self.name=name\n",
        "      self.age=age\n",
        "  def display_info(self):\n",
        "    print(f\"name :{self.name},Age:{self.age}\")\n",
        "s1=Student(\"Alice\",21)\n",
        "s2=Student(\"Bob\",22)\n",
        "s1.display_info()\n",
        "s2.display_info()\n",
        "print(type(s1))\n",
        "print(type(s2))"
      ],
      "metadata": {
        "colab": {
          "base_uri": "https://localhost:8080/"
        },
        "id": "6xf9RPJRedHG",
        "outputId": "1fc3ad94-e662-4d1a-9783-ccb3e00ce4b3"
      },
      "execution_count": null,
      "outputs": [
        {
          "output_type": "stream",
          "name": "stdout",
          "text": [
            "name :Alice,Age:21\n",
            "name :Bob,Age:22\n",
            "<class '__main__.Student'>\n",
            "<class '__main__.Student'>\n"
          ]
        }
      ]
    },
    {
      "cell_type": "code",
      "source": [
        "class Person:\n",
        "  def __init__(self,name,age):\n",
        "    self.name=name\n",
        "    self.age=age\n",
        "  def introduce(self):\n",
        "       print(f\"My name is {self.name} and I am {self.age} years old.\")\n",
        "p1=Person(\"John\",24)\n",
        "p1.introduce()"
      ],
      "metadata": {
        "id": "5pUkfwMwhB14"
      },
      "execution_count": null,
      "outputs": []
    },
    {
      "cell_type": "code",
      "source": [
        "class Car:\n",
        "  def __init__(self,brand,model):\n",
        "    self.brand=brand\n",
        "    self.model=model\n",
        "  def details(self):\n",
        "    print(f\"THis is a {self.brand} {self.model}\")\n",
        "c=Car(\"Toyota\",\"Camry\")\n",
        "c.details()"
      ],
      "metadata": {
        "colab": {
          "base_uri": "https://localhost:8080/"
        },
        "id": "NQ1t6q6-iF_a",
        "outputId": "421589f3-0104-4df1-a449-0bf5503f1e7c"
      },
      "execution_count": null,
      "outputs": [
        {
          "output_type": "stream",
          "name": "stdout",
          "text": [
            "THis is a Toyota Camry\n"
          ]
        }
      ]
    },
    {
      "cell_type": "code",
      "source": [
        "class Rectangle:\n",
        "  def __init__(self,l,b):\n",
        "    self.l=l\n",
        "    self.b=b\n",
        "  def area(self):\n",
        "    print(f\"Area of rectangle is {self.l*self.b}\")\n",
        "l=int(input(\"Enter length :\"))\n",
        "b=int(input(\"Enter breadth :\"))\n",
        "r=Rectangle(l,b)\n",
        "r.area()"
      ],
      "metadata": {
        "colab": {
          "base_uri": "https://localhost:8080/"
        },
        "id": "YaAsrWhzjdgR",
        "outputId": "8d09b6db-4a6f-4dfc-91cf-9fd7a3a767ca"
      },
      "execution_count": null,
      "outputs": [
        {
          "output_type": "stream",
          "name": "stdout",
          "text": [
            "Enter length :23\n",
            "Enter breadth :9\n",
            "Area of rectangle is 207\n"
          ]
        }
      ]
    },
    {
      "cell_type": "markdown",
      "source": [
        "Define a class Student with attributes name, roll_no, and grade. Create three student objects and print their data using a method show().  \n"
      ],
      "metadata": {
        "id": "tDKNRtZZlD8A"
      }
    },
    {
      "cell_type": "code",
      "source": [
        "class Student:\n",
        "  def __init__(self,name,roll_no,grade):\n",
        "    self.name=name\n",
        "    self.roll_no=roll_no\n",
        "    self.grade=grade\n",
        "  def show(self):\n",
        "    print(f\"Name : {self.name}, Roll No : {self.roll_no}, Grade : {self.grade}\")\n",
        "s=Student(\"Alice\",101,\"A+\")\n",
        "s.show()"
      ],
      "metadata": {
        "colab": {
          "base_uri": "https://localhost:8080/"
        },
        "id": "MQu9AqR9lFOB",
        "outputId": "e63da02e-2a1b-45df-f8cb-127c9a07136e"
      },
      "execution_count": null,
      "outputs": [
        {
          "output_type": "stream",
          "name": "stdout",
          "text": [
            "Name : Alice, Roll No : 101, Grade : A+\n"
          ]
        }
      ]
    },
    {
      "cell_type": "code",
      "source": [
        "#Write a class Book with attributes title, author, and price. Use the constructor to initialize the values. Create an object with your favorite book details.\n",
        "class Book:\n",
        "  def __init__(self,title,author,price):\n",
        "    self.title=title\n",
        "    self.author=author\n",
        "    self.price=price\n",
        "  def details(self):\n",
        "    print(f\"Title : {self.title}, Author : {self.author}, Price : {self.price}\")\n",
        "b=Book(\"The Alchemist\",\"Paulo Coelho\",299)\n",
        "b.details()"
      ],
      "metadata": {
        "colab": {
          "base_uri": "https://localhost:8080/"
        },
        "id": "QfpkRN9Ym0er",
        "outputId": "28dc768c-0e69-4ed7-f11e-3b049450c099"
      },
      "execution_count": null,
      "outputs": [
        {
          "output_type": "stream",
          "name": "stdout",
          "text": [
            "Title : The Alchemist, Author : Paulo Coelho, Price : 299\n"
          ]
        }
      ]
    },
    {
      "cell_type": "code",
      "source": [
        "# Create a class Account with attributes name and balance. Write a method deposit(amount) that adds money to balance. Create an object and deposit ₹1000.\n",
        "class Account:\n",
        "  def __init__(self,name,balance):\n",
        "    self.name=name\n",
        "    self.balance=balance\n",
        "  def deposit(self,amount):\n",
        "    self.balance+=amount\n",
        "    print(f\"Deposited ₹{amount}. New balance is ₹{self.balance}\")\n",
        "d=Account(\"Anju\",700)\n",
        "d.deposit(1000)"
      ],
      "metadata": {
        "colab": {
          "base_uri": "https://localhost:8080/"
        },
        "id": "r4dugHgQnf0k",
        "outputId": "7c6b6315-6301-47bc-a9f8-b23e1961a9cb"
      },
      "execution_count": null,
      "outputs": [
        {
          "output_type": "stream",
          "name": "stdout",
          "text": [
            "Deposited ₹1000. New balance is ₹1700\n"
          ]
        }
      ]
    },
    {
      "cell_type": "code",
      "source": [
        "#Create a class Lamp with a method toggle() to switch the lamp between ON and OFF. Create a lamp object and call the method multiple times.\n",
        "class Lamp:\n",
        "  def __init__(self):\n",
        "    self.is_on=False\n",
        "  def toggle(self):\n",
        "    self.is_on=not self.is_on\n",
        "    if self.is_on:\n",
        "      print(\"Lamp is on\")\n",
        "    else:\n",
        "      print(\"Lamp is off\")\n",
        "l=Lamp()\n",
        "l.toggle()\n",
        "l.toggle()\n",
        "l.toggle()"
      ],
      "metadata": {
        "colab": {
          "base_uri": "https://localhost:8080/"
        },
        "id": "WHwR2OgOo3wR",
        "outputId": "9e5afa72-407c-4fb9-a71e-1dc1ef0c2af1"
      },
      "execution_count": null,
      "outputs": [
        {
          "output_type": "stream",
          "name": "stdout",
          "text": [
            "Lamp is on\n",
            "Lamp is off\n",
            "Lamp is on\n"
          ]
        }
      ]
    },
    {
      "cell_type": "code",
      "source": [
        "# Create a class Employee with attributes name and salary. Create a list of 5 employees and display all names and salaries using a loop\n",
        "class Employee:\n",
        "  def __init__(self,name,salary):\n",
        "    self.name=name\n",
        "    self.salary=salary\n",
        "  def details(self):\n",
        "    print(f\"Name : {self.name}, Salary : {self.salary}\")\n",
        "l=[Employee(\"Anju\",50000),Employee(\"Bob\",60000),Employee(\"Charu\",55000),Employee(\"Devi\",70000),Employee(\"Steve\",65000)]\n",
        "for i in l:\n",
        "  i.details()\n"
      ],
      "metadata": {
        "colab": {
          "base_uri": "https://localhost:8080/"
        },
        "id": "32qYXZbzpxIA",
        "outputId": "0a716b03-063f-4518-a7e2-8aeac893c532"
      },
      "execution_count": null,
      "outputs": [
        {
          "output_type": "stream",
          "name": "stdout",
          "text": [
            "Name : Anju, Salary : 50000\n",
            "Name : Bob, Salary : 60000\n",
            "Name : Charu, Salary : 55000\n",
            "Name : Devi, Salary : 70000\n",
            "Name : Steve, Salary : 65000\n"
          ]
        }
      ]
    },
    {
      "cell_type": "code",
      "source": [
        "#Create a class MobilePhone with brand and model. Create an object. Change the model after creation using a method update_model(new_model). Show both old and new model names.\n",
        "class MobilePhone:\n",
        "  def __init__(self,brand,model):\n",
        "    self.brand=brand\n",
        "    self.model=model\n",
        "  def update_model(self,new_model):\n",
        "   print(f\"Old model :{self.model}\")\n",
        "   self.model=new_model\n",
        "   print(f\"Brand : {self.brand}, New Model : {self.model}\")\n",
        "m=MobilePhone(\"Samsung\",\"Galaxy S21\")\n",
        "m.update_model(\"Galaxy S22\")"
      ],
      "metadata": {
        "colab": {
          "base_uri": "https://localhost:8080/"
        },
        "id": "fYRbGQ6XrMP8",
        "outputId": "97ae66cc-ae68-4d13-d0d2-e5a5765e1682"
      },
      "execution_count": null,
      "outputs": [
        {
          "output_type": "stream",
          "name": "stdout",
          "text": [
            "Old model :Galaxy S21\n",
            "Brand : Samsung, New Model : Galaxy S22\n"
          ]
        }
      ]
    },
    {
      "cell_type": "code",
      "source": [
        "class Student:\n",
        "  school_name=\"ABC School\"  #class attribute (common attribute)\n",
        "  def __init__(self,name,age):\n",
        "    self.name=name\n",
        "    self.age=age     #instance attribute  (unique attribute)\n",
        "s1=Student(\"Alice\",21)\n",
        "s2=Student(\"Bob\",22)\n",
        "print(s1.school_name)\n",
        "print(s2.school_name)\n",
        "print(s1.name)\n",
        "print(s1.age)\n",
        "print(s2.name)\n",
        "print(s2.age)"
      ],
      "metadata": {
        "colab": {
          "base_uri": "https://localhost:8080/"
        },
        "id": "lmSTpyBbsR2b",
        "outputId": "d7aaedc4-c4d5-4cd5-f0f5-8ac0f117b887"
      },
      "execution_count": null,
      "outputs": [
        {
          "output_type": "stream",
          "name": "stdout",
          "text": [
            "ABC School\n",
            "ABC School\n",
            "Alice\n",
            "21\n",
            "Bob\n",
            "22\n"
          ]
        }
      ]
    }
  ]
}