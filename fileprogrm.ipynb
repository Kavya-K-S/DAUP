{
 "cells": [
  {
   "cell_type": "code",
   "execution_count": null,
   "id": "3df5a3f3-4630-41bc-bda9-c3704ebabe5f",
   "metadata": {},
   "outputs": [],
   "source": [
    "st=input(\"Enter a string:\")\n",
    "rev=\"\"\n",
    "for i in range(-1,-1*len(st)):\n",
    "    rev[i]+=st[i]\n",
    "print(rev)"
   ]
  },
  {
   "cell_type": "code",
   "execution_count": 3,
   "id": "94be5363-4e72-4f64-baca-e9ee3aa56b58",
   "metadata": {},
   "outputs": [
    {
     "name": "stdout",
     "output_type": "stream",
     "text": [
      "name 'x' is not defined\n",
      "0\n"
     ]
    }
   ],
   "source": [
    "a=0\n",
    "try:\n",
    "    print(x)\n",
    "except Exception as e:\n",
    "    print(e)\n",
    "print(a)"
   ]
  },
  {
   "cell_type": "markdown",
   "id": "26784861-f5b8-4516-a571-1e551bdba17a",
   "metadata": {},
   "source": [
    "## l=list(eval(input(\"Enter the elements in a list :\")))\n",
    "print(\"Max element :\",max(l))\n",
    "print(\"Min element :\",min(l))"
   ]
  },
  {
   "cell_type": "code",
   "execution_count": 1,
   "id": "84998ce5-008e-40f4-bbe9-fabd2650518e",
   "metadata": {},
   "outputs": [
    {
     "name": "stdout",
     "output_type": "stream",
     "text": [
      "Done writing to file\n"
     ]
    }
   ],
   "source": [
    "with open(\"file.txt\",\"w\") as file:\n",
    "    file.write(\"Hello\\n\")\n",
    "    file.write(\"Welcome to file operations in python\")\n",
    "print(\"Done writing to file\")"
   ]
  },
  {
   "cell_type": "code",
   "execution_count": 2,
   "id": "e71b77d3-1bf0-4b54-8ba5-0ab77d2fbd15",
   "metadata": {},
   "outputs": [
    {
     "name": "stdout",
     "output_type": "stream",
     "text": [
      "Hello\n",
      "Welcome to file operations in python\n",
      "-----end of file------\n"
     ]
    }
   ],
   "source": [
    "with open(\"file.txt\",\"r\") as file:\n",
    "    a=file.read()\n",
    "print(a)\n",
    "print(\"-----end of file------\")"
   ]
  },
  {
   "cell_type": "code",
   "execution_count": 12,
   "id": "9ec0cee5-3a69-4cd6-bea3-6216280d37fe",
   "metadata": {},
   "outputs": [
    {
     "name": "stdout",
     "output_type": "stream",
     "text": [
      "Text is appended\n"
     ]
    }
   ],
   "source": [
    "with open(\"file.txt\",\"a\") as file:\n",
    "    file.write(\"This is the appended text\")\n",
    "    \n",
    "print(\"Text is appended\")"
   ]
  },
  {
   "cell_type": "code",
   "execution_count": 26,
   "id": "ed05e21a-c781-4f93-8ce7-189d76159ee5",
   "metadata": {},
   "outputs": [
    {
     "name": "stdout",
     "output_type": "stream",
     "text": [
      "file deleted succesfully\n"
     ]
    }
   ],
   "source": []
  },
  {
   "cell_type": "code",
   "execution_count": 16,
   "id": "3481ebd1-67a6-48c9-8c18-7ab6d911e17e",
   "metadata": {},
   "outputs": [
    {
     "name": "stdout",
     "output_type": "stream",
     "text": [
      "File not in the location\n"
     ]
    }
   ],
   "source": [
    "try:\n",
    "    with open(\"c.txt\",\"r\") as file:\n",
    "        a=file.read()\n",
    "        print(a)\n",
    "except FileNotFoundError:\n",
    "     print(\"File not in the location\")"
   ]
  },
  {
   "cell_type": "code",
   "execution_count": 22,
   "id": "7fbf9db9-95c9-4a81-876c-9ab4a6fca6c3",
   "metadata": {},
   "outputs": [
    {
     "name": "stdout",
     "output_type": "stream",
     "text": [
      "list of lines written to the file\n"
     ]
    }
   ],
   "source": [
    "lines=[\"python is fun!\\n\", \"file handling is useful\\n\",\"Practice makes perfect\"]\n",
    "with open(\"lines.txt\",\"w\") as file:\n",
    "    file.writelines(lines)\n",
    "print(\"list of lines written to the file\")\n"
   ]
  },
  {
   "cell_type": "code",
   "execution_count": 23,
   "id": "4e462e7e-c514-45e8-a9b2-d094bd8181d0",
   "metadata": {},
   "outputs": [
    {
     "name": "stdout",
     "output_type": "stream",
     "text": [
      "['python is fun!\\n', 'file handling is useful\\n', 'Practice makes perfect']\n"
     ]
    }
   ],
   "source": [
    "with open(\"lines.txt\",\"r\") as file:\n",
    "        a=file.readlines()\n",
    "print(a)"
   ]
  },
  {
   "cell_type": "code",
   "execution_count": 27,
   "id": "5703dcbd-5d67-420a-a868-9611c9b6e57d",
   "metadata": {},
   "outputs": [
    {
     "name": "stdout",
     "output_type": "stream",
     "text": [
      "size 63 byte\n"
     ]
    }
   ],
   "source": [
    "import os\n",
    "os.rename(\"lines.txt\",\"file.txt\")\n",
    "size=os.path.getsize(\"file.txt\")\n",
    "print(\"size\",size,\"byte\")"
   ]
  },
  {
   "cell_type": "code",
   "execution_count": 32,
   "id": "2a96ace2-be1e-4cd4-a270-1e6cc94ba437",
   "metadata": {},
   "outputs": [],
   "source": [
    "with open(\"myfile.txt\",\"w\") as f:\n",
    "    f.write(\"Hello.\\n This is file writing.\\nthis is the 3rd line.\\nThis is the fourth line.\\nThis is 5th line\")"
   ]
  },
  {
   "cell_type": "code",
   "execution_count": 33,
   "id": "07b04c62-1fa3-4f43-9fa3-d4a90724bffb",
   "metadata": {},
   "outputs": [
    {
     "name": "stdout",
     "output_type": "stream",
     "text": [
      "Hello.\n",
      " This is file writing.\n",
      "this is the 3rd line.\n",
      "This is the fourth line.\n",
      "This is 5th line\n"
     ]
    }
   ],
   "source": [
    "with open(\"myfile.txt\",\"r\") as f:\n",
    "    print(f.read())"
   ]
  },
  {
   "cell_type": "code",
   "execution_count": 35,
   "id": "de5c0483-3f73-4c11-8aa1-e8974bfd0925",
   "metadata": {},
   "outputs": [
    {
     "name": "stdout",
     "output_type": "stream",
     "text": [
      "Hello.\n",
      " This is file writing.\n",
      "this is the 3rd line.\n",
      "This is the fourth line.\n",
      "This is 5th line\n"
     ]
    }
   ],
   "source": [
    "try:\n",
    "    with open(\"myfile.txt\",\"r\") as file:\n",
    "        a=file.read()\n",
    "        print(a)\n",
    "except FileNotFoundError:\n",
    "     print(\"File not in the location\")"
   ]
  },
  {
   "cell_type": "code",
   "execution_count": 36,
   "id": "3b57e620-e656-47d3-91e7-3263c653081b",
   "metadata": {},
   "outputs": [
    {
     "name": "stdout",
     "output_type": "stream",
     "text": [
      "\n"
     ]
    }
   ],
   "source": [
    "with open(\"file.txt\",\"a+\") as file:\n",
    "    file.writelines([\"appended line 1\",\"appended line 2\",\"appended line 5\"])\n",
    "    a=file.read()\n",
    "print(a)"
   ]
  },
  {
   "cell_type": "code",
   "execution_count": null,
   "id": "f92eef1c-ae6d-4c37-9098-5b0ca6fc57e0",
   "metadata": {},
   "outputs": [],
   "source": []
  },
  {
   "cell_type": "code",
   "execution_count": null,
   "id": "8dbe8920-f755-4de9-a1ff-28b03f3a1bbd",
   "metadata": {},
   "outputs": [],
   "source": []
  }
 ],
 "metadata": {
  "kernelspec": {
   "display_name": "Python 3 (ipykernel)",
   "language": "python",
   "name": "python3"
  },
  "language_info": {
   "codemirror_mode": {
    "name": "ipython",
    "version": 3
   },
   "file_extension": ".py",
   "mimetype": "text/x-python",
   "name": "python",
   "nbconvert_exporter": "python",
   "pygments_lexer": "ipython3",
   "version": "3.8.10"
  }
 },
 "nbformat": 4,
 "nbformat_minor": 5
}
