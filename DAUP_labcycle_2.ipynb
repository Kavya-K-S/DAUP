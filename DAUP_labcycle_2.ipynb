{
  "nbformat": 4,
  "nbformat_minor": 0,
  "metadata": {
    "colab": {
      "provenance": [],
      "authorship_tag": "ABX9TyPfbCZcxgsE3ge8WSZE4MrS",
      "include_colab_link": true
    },
    "kernelspec": {
      "name": "python3",
      "display_name": "Python 3"
    },
    "language_info": {
      "name": "python"
    }
  },
  "cells": [
    {
      "cell_type": "markdown",
      "metadata": {
        "id": "view-in-github",
        "colab_type": "text"
      },
      "source": [
        "<a href=\"https://colab.research.google.com/github/Kavya-K-S/DAUP/blob/main/DAUP_labcycle_2.ipynb\" target=\"_parent\"><img src=\"https://colab.research.google.com/assets/colab-badge.svg\" alt=\"Open In Colab\"/></a>"
      ]
    },
    {
      "cell_type": "code",
      "execution_count": 2,
      "metadata": {
        "colab": {
          "base_uri": "https://localhost:8080/"
        },
        "id": "hpoNFNCh7CBs",
        "outputId": "660cfa2b-3c72-41e6-d61d-b64b088da7b1"
      },
      "outputs": [
        {
          "output_type": "stream",
          "name": "stdout",
          "text": [
            "62\n",
            "25\n",
            "195\n",
            "5.0\n",
            "56.0\n"
          ]
        }
      ],
      "source": [
        "class Calculator:\n",
        "    def add(self, a, b):\n",
        "        return a + b\n",
        "\n",
        "    def subtract(self, a, b):\n",
        "        return a - b\n",
        "\n",
        "    def multiply(self, a, b):\n",
        "        return a * b\n",
        "\n",
        "    def divide(self, a, b):\n",
        "        if b == 0:\n",
        "            return \"Error: Division by zero is not allowed.\"\n",
        "        return a / b\n",
        "calc = Calculator()\n",
        "print(calc.add(12, 50))\n",
        "print(calc.subtract(30, 5))\n",
        "print(calc.multiply(13, 15))\n",
        "print(calc.divide(45, 9))\n",
        "print(calc.divide(112,2))\n"
      ]
    },
    {
      "cell_type": "code",
      "source": [
        "class Vehicle:\n",
        "    def __init__(self, brand):\n",
        "        self.brand = brand\n",
        "\n",
        "    def show_brand(self):\n",
        "        return f\"Brand: {self.brand}\"\n",
        "class Car(Vehicle):\n",
        "    def __init__(self, brand, model):\n",
        "        super().__init__(brand)\n",
        "        self.model = model\n",
        "\n",
        "    def show_model(self):\n",
        "        return f\"Model: {self.model}\"\n",
        "\n",
        "class ElectricCar(Car):\n",
        "    def __init__(self, brand, model, battery_capacity):\n",
        "        super().__init__(brand, model)\n",
        "        self.battery_capacity = battery_capacity\n",
        "\n",
        "    def show_battery(self):\n",
        "        return f\"Battery Capacity: {self.battery_capacity} kWh\"\n",
        "\n",
        "ecar = ElectricCar(\"Tesla\", \"Model S\", 100)\n",
        "print(ecar.show_brand())\n",
        "print(ecar.show_model())\n",
        "print(ecar.show_battery())\n"
      ],
      "metadata": {
        "colab": {
          "base_uri": "https://localhost:8080/"
        },
        "id": "R83P7vsc7ySJ",
        "outputId": "ef10cfe9-7177-4938-e387-50e03c4dc392"
      },
      "execution_count": 3,
      "outputs": [
        {
          "output_type": "stream",
          "name": "stdout",
          "text": [
            "Brand: Tesla\n",
            "Model: Model S\n",
            "Battery Capacity: 100 kWh\n"
          ]
        }
      ]
    },
    {
      "cell_type": "code",
      "source": [
        "import math\n",
        "class Shape:\n",
        "    def area(self):\n",
        "        return 0\n",
        "class Rectangle(Shape):\n",
        "    def __init__(self, length, width):\n",
        "        self.length = length\n",
        "        self.width = width\n",
        "\n",
        "    def area(self):\n",
        "        return self.length * self.width\n",
        "\n",
        "class Circle(Shape):\n",
        "    def __init__(self, radius):\n",
        "        self.radius = radius\n",
        "\n",
        "    def area(self):\n",
        "        return math.pi * (self.radius ** 2)\n",
        "\n",
        "rect = Rectangle(10, 5)\n",
        "circle = Circle(7)\n",
        "print(\"Rectangle Area:\", rect.area())\n",
        "print(\"Circle Area:\", circle.area())\n"
      ],
      "metadata": {
        "colab": {
          "base_uri": "https://localhost:8080/"
        },
        "id": "GYnGX9R18EFL",
        "outputId": "3a3782c2-77c4-4d58-b91d-0dd5edfe8770"
      },
      "execution_count": 4,
      "outputs": [
        {
          "output_type": "stream",
          "name": "stdout",
          "text": [
            "Rectangle Area: 50\n",
            "Circle Area: 153.93804002589985\n"
          ]
        }
      ]
    },
    {
      "cell_type": "code",
      "source": [
        "def file_stats(filename):\n",
        "    with open(filename, \"r\") as f:\n",
        "        text = f.read()\n",
        "\n",
        "    lines = text.splitlines()\n",
        "    words = text.split()\n",
        "    characters = len(text)\n",
        "\n",
        "    print(\"Lines:\", len(lines))\n",
        "    print(\"Words:\", len(words))\n",
        "    print(\"Characters:\", characters)\n",
        "\n",
        "file_stats(\"files.txt\")\n"
      ],
      "metadata": {
        "colab": {
          "base_uri": "https://localhost:8080/"
        },
        "id": "PMrLPu6v8Lf3",
        "outputId": "00e0e4cf-e6c3-4980-9f69-d881e08f5213"
      },
      "execution_count": 8,
      "outputs": [
        {
          "output_type": "stream",
          "name": "stdout",
          "text": [
            "Lines: 3\n",
            "Words: 25\n",
            "Characters: 213\n"
          ]
        }
      ]
    },
    {
      "cell_type": "code",
      "source": [
        "with open(\"files.txt\", \"w\") as f:\n",
        "    f.write(\"First line\\n\")\n",
        "    f.write(\"Second line\\n\")\n",
        "\n",
        "lines_to_write = [\"Third line\\n\", \"Fourth line\\n\"]\n",
        "with open(\"files.txt\", \"a\") as f:\n",
        "    f.writelines(lines_to_write)\n",
        "\n",
        "with open(\"files.txt\", \"r\") as f:\n",
        "    content = f.read()\n",
        "    print(\"Using read():\")\n",
        "    print(content)\n",
        "\n",
        "with open(\"files.txt\", \"r\") as f:\n",
        "    print(\"Using readline():\")\n",
        "    print(f.readline().strip())\n",
        "    print(f.readline().strip())\n",
        "\n",
        "with open(\"files.txt\", \"r\") as f:\n",
        "    lines = f.readlines()\n",
        "    print(\"Using readlines():\")\n",
        "    print(lines)\n"
      ],
      "metadata": {
        "colab": {
          "base_uri": "https://localhost:8080/"
        },
        "id": "S7jc-BNI9Hem",
        "outputId": "b3ce96b7-dff1-421b-e067-0c9ca5d366cd"
      },
      "execution_count": 9,
      "outputs": [
        {
          "output_type": "stream",
          "name": "stdout",
          "text": [
            "Using read():\n",
            "First line\n",
            "Second line\n",
            "Third line\n",
            "Fourth line\n",
            "\n",
            "Using readline():\n",
            "First line\n",
            "Second line\n",
            "Using readlines():\n",
            "['First line\\n', 'Second line\\n', 'Third line\\n', 'Fourth line\\n']\n"
          ]
        }
      ]
    },
    {
      "cell_type": "code",
      "source": [
        "from datetime import datetime\n",
        "\n",
        "now = datetime.now()\n",
        "print(\"Date:\", now.strftime(\"%Y-%m-%d\"))\n",
        "print(\"Time:\", now.strftime(\"%H:%M:%S\"))\n",
        "print(\"Day:\", now.strftime(\"%A\"))\n"
      ],
      "metadata": {
        "colab": {
          "base_uri": "https://localhost:8080/"
        },
        "id": "09n0C2xt9nHQ",
        "outputId": "b9e6bd61-7ae7-4ded-f70f-3b7bcb3bbf94"
      },
      "execution_count": 10,
      "outputs": [
        {
          "output_type": "stream",
          "name": "stdout",
          "text": [
            "Date: 2025-09-10\n",
            "Time: 09:30:39\n",
            "Day: Wednesday\n"
          ]
        }
      ]
    },
    {
      "cell_type": "code",
      "source": [
        "from datetime import date, datetime\n",
        "\n",
        "dob_input = input(\"Enter your date of birth (YYYY-MM-DD): \")\n",
        "dob = datetime.strptime(dob_input, \"%Y-%m-%d\").date()\n",
        "\n",
        "today = date.today()\n",
        "age = today.year - dob.year - ((today.month, today.day) < (dob.month, dob.day))\n",
        "\n",
        "print(\"Your age is:\", age)\n"
      ],
      "metadata": {
        "colab": {
          "base_uri": "https://localhost:8080/"
        },
        "id": "qW-uPx2J9tYH",
        "outputId": "c852f084-2ec4-4dec-b411-6404e9bb6d90"
      },
      "execution_count": 11,
      "outputs": [
        {
          "output_type": "stream",
          "name": "stdout",
          "text": [
            "Enter your date of birth (YYYY-MM-DD): 2003-02-18\n",
            "Your age is: 22\n"
          ]
        }
      ]
    },
    {
      "cell_type": "code",
      "source": [
        "try:\n",
        "    a = int(input(\"Enter numerator: \"))\n",
        "    b = int(input(\"Enter denominator: \"))\n",
        "    result = a / b\n",
        "    print(\"Result:\", result)\n",
        "except ZeroDivisionError:\n",
        "    print(\"Error: Division by zero is not allowed.\")\n"
      ],
      "metadata": {
        "colab": {
          "base_uri": "https://localhost:8080/"
        },
        "id": "AiQus-Zs93zk",
        "outputId": "fb741f56-820f-45d7-aac1-7a2fe522693c"
      },
      "execution_count": 12,
      "outputs": [
        {
          "output_type": "stream",
          "name": "stdout",
          "text": [
            "Enter numerator: 23\n",
            "Enter denominator: 0\n",
            "Error: Division by zero is not allowed.\n"
          ]
        }
      ]
    },
    {
      "cell_type": "code",
      "source": [
        "class NegativeValueError(Exception):\n",
        "    pass\n",
        "\n",
        "def check_positive(num):\n",
        "    if num < 0:\n",
        "        raise NegativeValueError(\"Negative values not possible\")\n",
        "    return num\n",
        "\n",
        "try:\n",
        "    n = int(input(\"Enter a number: \"))\n",
        "    print(\"You entered:\", check_positive(n))\n",
        "except NegativeValueError as e:\n",
        "    print(\"Error:\", e)\n"
      ],
      "metadata": {
        "colab": {
          "base_uri": "https://localhost:8080/"
        },
        "id": "sKGU1wNQ-BYv",
        "outputId": "72bc252c-6f6b-47fd-b1aa-c6c353bc3eb5"
      },
      "execution_count": 13,
      "outputs": [
        {
          "output_type": "stream",
          "name": "stdout",
          "text": [
            "Enter a number: -5\n",
            "Error: Negative values are not allowed\n"
          ]
        }
      ]
    },
    {
      "cell_type": "code",
      "source": [
        "try:\n",
        "    num = int(input(\"Enter a number: \"))\n",
        "    result = 10 / num\n",
        "except ZeroDivisionError:\n",
        "    print(\"Error: Division by zero\")\n",
        "except ValueError:\n",
        "    print(\"Error: Invalid input\")\n",
        "else:\n",
        "    print(\"Result:\", result)\n",
        "finally:S\n"
      ],
      "metadata": {
        "colab": {
          "base_uri": "https://localhost:8080/"
        },
        "id": "J9PPpmIX-PbH",
        "outputId": "f28e52f9-d15e-4ff5-d11b-ea04be0a241d"
      },
      "execution_count": 15,
      "outputs": [
        {
          "output_type": "stream",
          "name": "stdout",
          "text": [
            "Enter a number: dfb\n",
            "Error: Invalid input\n",
            "Execution completed\n"
          ]
        }
      ]
    },
    {
      "cell_type": "markdown",
      "source": [],
      "metadata": {
        "id": "fZ_i1ITH8DtV"
      }
    }
  ]
}