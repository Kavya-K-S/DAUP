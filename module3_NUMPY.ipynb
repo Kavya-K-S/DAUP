{
  "nbformat": 4,
  "nbformat_minor": 0,
  "metadata": {
    "colab": {
      "provenance": [],
      "authorship_tag": "ABX9TyPCNwgfgZug2m238SaRSKUk",
      "include_colab_link": true
    },
    "kernelspec": {
      "name": "python3",
      "display_name": "Python 3"
    },
    "language_info": {
      "name": "python"
    }
  },
  "cells": [
    {
      "cell_type": "markdown",
      "metadata": {
        "id": "view-in-github",
        "colab_type": "text"
      },
      "source": [
        "<a href=\"https://colab.research.google.com/github/Kavya-K-S/DAUP/blob/main/module3_NUMPY.ipynb\" target=\"_parent\"><img src=\"https://colab.research.google.com/assets/colab-badge.svg\" alt=\"Open In Colab\"/></a>"
      ]
    },
    {
      "cell_type": "markdown",
      "source": [
        "**NUMPY**\n",
        "\n",
        "*   Numerical python\n",
        "*   python library for working with array\n",
        "*   50x faster than python lists\n"
      ],
      "metadata": {
        "id": "pl16ThI5ho36"
      }
    },
    {
      "cell_type": "code",
      "execution_count": 4,
      "metadata": {
        "colab": {
          "base_uri": "https://localhost:8080/"
        },
        "id": "9fK1QU8rhiAC",
        "outputId": "4c757007-ffe6-4344-f72a-17c7f0136ab8"
      },
      "outputs": [
        {
          "output_type": "stream",
          "name": "stdout",
          "text": [
            "[1 2 3 4 5]\n"
          ]
        }
      ],
      "source": [
        "import numpy as np\n",
        "a=np.array([1,2,3,4,5])\n",
        "print(a)"
      ]
    },
    {
      "cell_type": "markdown",
      "source": [
        "ndarray\n"
      ],
      "metadata": {
        "id": "YH5GaayYjaDj"
      }
    },
    {
      "cell_type": "code",
      "source": [
        "type(a)"
      ],
      "metadata": {
        "colab": {
          "base_uri": "https://localhost:8080/"
        },
        "id": "uFbnmcEFjeY5",
        "outputId": "01a0d1f2-3b31-4322-ea7d-47c1cea0da9b"
      },
      "execution_count": 5,
      "outputs": [
        {
          "output_type": "execute_result",
          "data": {
            "text/plain": [
              "numpy.ndarray"
            ]
          },
          "metadata": {},
          "execution_count": 5
        }
      ]
    },
    {
      "cell_type": "markdown",
      "source": [
        "MULTIDIMENIONAL ARRAY"
      ],
      "metadata": {
        "id": "pURaYO_rkNjl"
      }
    },
    {
      "cell_type": "code",
      "source": [
        "import numpy as np\n",
        "a=np.array(5)\n",
        "b=np.array([1,2,3,4,5])\n",
        "c=np.array([[1,2,3],[4,5,6]])\n",
        "x=np.array([[[1,2,3],[4,5,6],[7,8,9]]])\n",
        "print(a)\n",
        "print(\"Dimension=\",a.ndim)\n",
        "print(b)\n",
        "print(\"Dimension=\",b.ndim)\n",
        "print(c)\n",
        "print(\"Dimension=\",c.ndim)\n",
        "print(x)\n",
        "print(\"Dimension=\",x.ndim)"
      ],
      "metadata": {
        "colab": {
          "base_uri": "https://localhost:8080/"
        },
        "id": "Gs4d_ZEUkQ1A",
        "outputId": "c1f8f111-ce9b-4dbe-a179-3e5ab59081ee"
      },
      "execution_count": 11,
      "outputs": [
        {
          "output_type": "stream",
          "name": "stdout",
          "text": [
            "5\n",
            "Dimension= 0\n",
            "[1 2 3 4 5]\n",
            "Dimension= 1\n",
            "[[1 2 3]\n",
            " [4 5 6]]\n",
            "Dimension= 2\n",
            "[[[1 2 3]\n",
            "  [4 5 6]\n",
            "  [7 8 9]]]\n",
            "Dimension= 3\n"
          ]
        }
      ]
    },
    {
      "cell_type": "code",
      "source": [
        "a=np.array([1,2,3],dtype=float)\n",
        "print(a)"
      ],
      "metadata": {
        "colab": {
          "base_uri": "https://localhost:8080/"
        },
        "id": "b8jfbG4QmLGj",
        "outputId": "5c4d86b2-4d57-490e-8506-e48420dfc089"
      },
      "execution_count": 14,
      "outputs": [
        {
          "output_type": "stream",
          "name": "stdout",
          "text": [
            "[1. 2. 3.]\n",
            "[[1 2 3]]\n"
          ]
        }
      ]
    },
    {
      "cell_type": "markdown",
      "source": [
        "INDEXING"
      ],
      "metadata": {
        "id": "rWbtIDWSnLZ2"
      }
    },
    {
      "cell_type": "code",
      "source": [
        "x=np.array([11,12,13,14,15,60,70,80,90,100])\n",
        "print(x)\n",
        "z=x[np.array([3,3,1,8])]\n",
        "print(z)"
      ],
      "metadata": {
        "colab": {
          "base_uri": "https://localhost:8080/"
        },
        "id": "ZXEBBAlpnLAJ",
        "outputId": "2ab8ac7a-b41f-4631-b589-1c1cc510ef20"
      },
      "execution_count": 15,
      "outputs": [
        {
          "output_type": "stream",
          "name": "stdout",
          "text": [
            "[ 11  12  13  14  15  60  70  80  90 100]\n",
            "[14 14 12 90]\n"
          ]
        }
      ]
    },
    {
      "cell_type": "code",
      "source": [
        "d=[1,2,3,4,5]\n",
        "e=[5,6,7,8,9]\n",
        "f=[2,45,32,78,65]\n",
        "g=[3,6,8,9,2]\n",
        "h=[66,99,88,33,22]\n",
        "my_matrice=np.matrix([d,e,f,g,h])\n",
        "my_matrice\n",
        "type(my_matrice)"
      ],
      "metadata": {
        "colab": {
          "base_uri": "https://localhost:8080/"
        },
        "id": "ALWnmjb4oCwR",
        "outputId": "c455fe33-0a69-4a97-a3d3-fa082f951031"
      },
      "execution_count": 21,
      "outputs": [
        {
          "output_type": "execute_result",
          "data": {
            "text/plain": [
              "numpy.matrix"
            ]
          },
          "metadata": {},
          "execution_count": 21
        }
      ]
    },
    {
      "cell_type": "code",
      "source": [
        "my_matrice[1:4,2:] #rows 1 to 3 and columns 2 to 4"
      ],
      "metadata": {
        "colab": {
          "base_uri": "https://localhost:8080/"
        },
        "id": "udUnEN0fokTH",
        "outputId": "4272219e-7dab-4f78-9c3a-baa5b555e072"
      },
      "execution_count": 22,
      "outputs": [
        {
          "output_type": "execute_result",
          "data": {
            "text/plain": [
              "matrix([[ 7,  8,  9],\n",
              "        [32, 78, 65],\n",
              "        [ 8,  9,  2]])"
            ]
          },
          "metadata": {},
          "execution_count": 22
        }
      ]
    },
    {
      "cell_type": "code",
      "source": [
        "my_matrice[2:5,1:3]"
      ],
      "metadata": {
        "colab": {
          "base_uri": "https://localhost:8080/"
        },
        "id": "1pY7k70lpY00",
        "outputId": "c80561a3-c051-4647-f2c7-640fd3926b7f"
      },
      "execution_count": 20,
      "outputs": [
        {
          "output_type": "execute_result",
          "data": {
            "text/plain": [
              "matrix([[45, 32],\n",
              "        [ 6,  8],\n",
              "        [99, 88]])"
            ]
          },
          "metadata": {},
          "execution_count": 20
        }
      ]
    },
    {
      "cell_type": "code",
      "source": [
        "l=[[1,2,3],[4,5,6],[7,8,9]]\n",
        "a=np.array(l)\n",
        "print(\"list=\",l)\n",
        "print(\"array\\n\",a)\n",
        "print(type(l))\n",
        "print(type(a))"
      ],
      "metadata": {
        "colab": {
          "base_uri": "https://localhost:8080/"
        },
        "id": "4z6tmwcPtiIA",
        "outputId": "57d42d42-0181-431a-cb2e-3168a92e3a6f"
      },
      "execution_count": 29,
      "outputs": [
        {
          "output_type": "stream",
          "name": "stdout",
          "text": [
            "list= [[1, 2, 3], [4, 5, 6], [7, 8, 9]]\n",
            "array\n",
            " [[1 2 3]\n",
            " [4 5 6]\n",
            " [7 8 9]]\n",
            "<class 'list'>\n",
            "<class 'numpy.ndarray'>\n"
          ]
        }
      ]
    }
  ]
}