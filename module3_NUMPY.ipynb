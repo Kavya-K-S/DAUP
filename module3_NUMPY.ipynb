{
  "nbformat": 4,
  "nbformat_minor": 0,
  "metadata": {
    "colab": {
      "provenance": [],
      "authorship_tag": "ABX9TyM/fmsZsUTAMACuvZd0d/mP"
    },
    "kernelspec": {
      "name": "python3",
      "display_name": "Python 3"
    },
    "language_info": {
      "name": "python"
    }
  },
  "cells": [
    {
      "cell_type": "markdown",
      "source": [
        "**NUMPY**\n",
        "\n",
        "*   Numerical python\n",
        "*   python library for working with array\n",
        "*   50x faster than python lists\n"
      ],
      "metadata": {
        "id": "pl16ThI5ho36"
      }
    },
    {
      "cell_type": "code",
      "execution_count": null,
      "metadata": {
        "colab": {
          "base_uri": "https://localhost:8080/"
        },
        "id": "9fK1QU8rhiAC",
        "outputId": "4c757007-ffe6-4344-f72a-17c7f0136ab8"
      },
      "outputs": [
        {
          "output_type": "stream",
          "name": "stdout",
          "text": [
            "[1 2 3 4 5]\n"
          ]
        }
      ],
      "source": [
        "import numpy as np\n",
        "a=np.array([1,2,3,4,5])\n",
        "print(a)"
      ]
    },
    {
      "cell_type": "markdown",
      "source": [
        "ndarray\n"
      ],
      "metadata": {
        "id": "YH5GaayYjaDj"
      }
    },
    {
      "cell_type": "code",
      "source": [
        "type(a)"
      ],
      "metadata": {
        "colab": {
          "base_uri": "https://localhost:8080/"
        },
        "id": "uFbnmcEFjeY5",
        "outputId": "01a0d1f2-3b31-4322-ea7d-47c1cea0da9b"
      },
      "execution_count": null,
      "outputs": [
        {
          "output_type": "execute_result",
          "data": {
            "text/plain": [
              "numpy.ndarray"
            ]
          },
          "metadata": {},
          "execution_count": 5
        }
      ]
    },
    {
      "cell_type": "markdown",
      "source": [
        "MULTIDIMENIONAL ARRAY"
      ],
      "metadata": {
        "id": "pURaYO_rkNjl"
      }
    },
    {
      "cell_type": "code",
      "source": [
        "import numpy as np\n",
        "a=np.array(5)\n",
        "b=np.array([1,2,3,4,5])\n",
        "c=np.array([[1,2,3],[4,5,6]])\n",
        "x=np.array([[[1,2,3],[4,5,6],[7,8,9]]])\n",
        "print(a)\n",
        "print(\"Dimension=\",a.ndim)\n",
        "print(b)\n",
        "print(\"Dimension=\",b.ndim)\n",
        "print(c)\n",
        "print(\"Dimension=\",c.ndim)\n",
        "print(x)\n",
        "print(\"Dimension=\",x.ndim)"
      ],
      "metadata": {
        "colab": {
          "base_uri": "https://localhost:8080/"
        },
        "id": "Gs4d_ZEUkQ1A",
        "outputId": "c1f8f111-ce9b-4dbe-a179-3e5ab59081ee"
      },
      "execution_count": null,
      "outputs": [
        {
          "output_type": "stream",
          "name": "stdout",
          "text": [
            "5\n",
            "Dimension= 0\n",
            "[1 2 3 4 5]\n",
            "Dimension= 1\n",
            "[[1 2 3]\n",
            " [4 5 6]]\n",
            "Dimension= 2\n",
            "[[[1 2 3]\n",
            "  [4 5 6]\n",
            "  [7 8 9]]]\n",
            "Dimension= 3\n"
          ]
        }
      ]
    },
    {
      "cell_type": "code",
      "source": [
        "a=np.array([1,2,3],dtype=float)\n",
        "print(a)"
      ],
      "metadata": {
        "colab": {
          "base_uri": "https://localhost:8080/"
        },
        "id": "b8jfbG4QmLGj",
        "outputId": "5c4d86b2-4d57-490e-8506-e48420dfc089"
      },
      "execution_count": null,
      "outputs": [
        {
          "output_type": "stream",
          "name": "stdout",
          "text": [
            "[1. 2. 3.]\n",
            "[[1 2 3]]\n"
          ]
        }
      ]
    },
    {
      "cell_type": "markdown",
      "source": [
        "INDEXING"
      ],
      "metadata": {
        "id": "rWbtIDWSnLZ2"
      }
    },
    {
      "cell_type": "code",
      "source": [
        "x=np.array([11,12,13,14,15,60,70,80,90,100])\n",
        "print(x)\n",
        "z=x[np.array([3,3,1,8])]\n",
        "print(z)"
      ],
      "metadata": {
        "colab": {
          "base_uri": "https://localhost:8080/"
        },
        "id": "ZXEBBAlpnLAJ",
        "outputId": "2ab8ac7a-b41f-4631-b589-1c1cc510ef20"
      },
      "execution_count": null,
      "outputs": [
        {
          "output_type": "stream",
          "name": "stdout",
          "text": [
            "[ 11  12  13  14  15  60  70  80  90 100]\n",
            "[14 14 12 90]\n"
          ]
        }
      ]
    },
    {
      "cell_type": "code",
      "source": [
        "d=[1,2,3,4,5]\n",
        "e=[5,6,7,8,9]\n",
        "f=[2,45,32,78,65]\n",
        "g=[3,6,8,9,2]\n",
        "h=[66,99,88,33,22]\n",
        "my_matrice=np.matrix([d,e,f,g,h])\n",
        "my_matrice\n",
        "type(my_matrice)"
      ],
      "metadata": {
        "colab": {
          "base_uri": "https://localhost:8080/"
        },
        "id": "ALWnmjb4oCwR",
        "outputId": "c455fe33-0a69-4a97-a3d3-fa082f951031"
      },
      "execution_count": null,
      "outputs": [
        {
          "output_type": "execute_result",
          "data": {
            "text/plain": [
              "numpy.matrix"
            ]
          },
          "metadata": {},
          "execution_count": 21
        }
      ]
    },
    {
      "cell_type": "code",
      "source": [
        "my_matrice[1:4,2:] #rows 1 to 3 and columns 2 to 4"
      ],
      "metadata": {
        "colab": {
          "base_uri": "https://localhost:8080/"
        },
        "id": "udUnEN0fokTH",
        "outputId": "4272219e-7dab-4f78-9c3a-baa5b555e072"
      },
      "execution_count": null,
      "outputs": [
        {
          "output_type": "execute_result",
          "data": {
            "text/plain": [
              "matrix([[ 7,  8,  9],\n",
              "        [32, 78, 65],\n",
              "        [ 8,  9,  2]])"
            ]
          },
          "metadata": {},
          "execution_count": 22
        }
      ]
    },
    {
      "cell_type": "code",
      "source": [
        "my_matrice[2:5,1:3]"
      ],
      "metadata": {
        "colab": {
          "base_uri": "https://localhost:8080/"
        },
        "id": "1pY7k70lpY00",
        "outputId": "c80561a3-c051-4647-f2c7-640fd3926b7f"
      },
      "execution_count": null,
      "outputs": [
        {
          "output_type": "execute_result",
          "data": {
            "text/plain": [
              "matrix([[45, 32],\n",
              "        [ 6,  8],\n",
              "        [99, 88]])"
            ]
          },
          "metadata": {},
          "execution_count": 20
        }
      ]
    },
    {
      "cell_type": "code",
      "source": [
        "l=[[1,2,3],[4,5,6],[7,8,9]]\n",
        "a=np.array(l)\n",
        "print(\"list=\",l)\n",
        "print(\"array\\n\",a)\n",
        "print(type(l))\n",
        "print(type(a))"
      ],
      "metadata": {
        "colab": {
          "base_uri": "https://localhost:8080/"
        },
        "id": "4z6tmwcPtiIA",
        "outputId": "57d42d42-0181-431a-cb2e-3168a92e3a6f"
      },
      "execution_count": null,
      "outputs": [
        {
          "output_type": "stream",
          "name": "stdout",
          "text": [
            "list= [[1, 2, 3], [4, 5, 6], [7, 8, 9]]\n",
            "array\n",
            " [[1 2 3]\n",
            " [4 5 6]\n",
            " [7 8 9]]\n",
            "<class 'list'>\n",
            "<class 'numpy.ndarray'>\n"
          ]
        }
      ]
    },
    {
      "cell_type": "code",
      "source": [
        "k=np.array([1,2,3,4,5,6,])\n",
        "copy1_=k.copy()\n",
        "view1_=k.view()\n",
        "print(k)\n",
        "print(copy1_)\n",
        "print(view1_)\n",
        "k[2]=90\n",
        "print(\"After changing the value\",view1_)\n",
        "print(\"copied array=\",copy1_)\n",
        "print(\"viewed arra=\",view1_)\n"
      ],
      "metadata": {
        "colab": {
          "base_uri": "https://localhost:8080/"
        },
        "id": "AGMWaD6Sx1y5",
        "outputId": "7604f3c9-a677-48e0-e23c-fd02e2d9ea84"
      },
      "execution_count": null,
      "outputs": [
        {
          "output_type": "stream",
          "name": "stdout",
          "text": [
            "[1 2 3 4 5 6]\n",
            "[1 2 3 4 5 6]\n",
            "[1 2 3 4 5 6]\n",
            "After changing the value [ 1  2 90  4  5  6]\n",
            "copied array= [1 2 3 4 5 6]\n",
            "viewed arra= [ 1  2 90  4  5  6]\n"
          ]
        }
      ]
    },
    {
      "cell_type": "markdown",
      "source": [
        "RESHAPE"
      ],
      "metadata": {
        "id": "JrEaC086zitr"
      }
    },
    {
      "cell_type": "code",
      "source": [
        "arr=np.array([1,2,3,4,5,6,7,8,9,10,11,12])\n",
        "print(arr.shape)\n",
        "newarr=arr.reshape(2,2,3)\n",
        "print(newarr)"
      ],
      "metadata": {
        "colab": {
          "base_uri": "https://localhost:8080/"
        },
        "id": "KXNaXbGUzThU",
        "outputId": "3268713d-9496-423f-ddf6-9dc73b11bb46"
      },
      "execution_count": null,
      "outputs": [
        {
          "output_type": "stream",
          "name": "stdout",
          "text": [
            "(12,)\n",
            "[[[ 1  2  3]\n",
            "  [ 4  5  6]]\n",
            "\n",
            " [[ 7  8  9]\n",
            "  [10 11 12]]]\n"
          ]
        }
      ]
    },
    {
      "cell_type": "markdown",
      "source": [
        "ARANGE FUNCTION"
      ],
      "metadata": {
        "id": "pu64uM_e0GQ4"
      }
    },
    {
      "cell_type": "code",
      "source": [
        "print(np.arange(10))\n",
        "print(np.arange(5,10))\n",
        "print(np.arange(5,10,0.5))"
      ],
      "metadata": {
        "colab": {
          "base_uri": "https://localhost:8080/"
        },
        "id": "sDeiqiFC0NN9",
        "outputId": "93810a9e-2b36-447a-df2c-170114c68e56"
      },
      "execution_count": null,
      "outputs": [
        {
          "output_type": "stream",
          "name": "stdout",
          "text": [
            "[0 1 2 3 4 5 6 7 8 9]\n",
            "[5 6 7 8 9]\n",
            "[5.  5.5 6.  6.5 7.  7.5 8.  8.5 9.  9.5]\n"
          ]
        }
      ]
    },
    {
      "cell_type": "markdown",
      "source": [
        "LINSPACE\n",
        "return evenly spaced numbers over a specified interval"
      ],
      "metadata": {
        "id": "76WTiM3o1DCK"
      }
    },
    {
      "cell_type": "code",
      "source": [
        "x=np.linspace(0,6,9)\n",
        "x"
      ],
      "metadata": {
        "colab": {
          "base_uri": "https://localhost:8080/"
        },
        "id": "sjOTFfZT1Cqe",
        "outputId": "2fc39918-3f11-461f-e406-7c62ad03e5b7"
      },
      "execution_count": null,
      "outputs": [
        {
          "output_type": "execute_result",
          "data": {
            "text/plain": [
              "array([0.  , 0.75, 1.5 , 2.25, 3.  , 3.75, 4.5 , 5.25, 6.  ])"
            ]
          },
          "metadata": {},
          "execution_count": 40
        }
      ]
    },
    {
      "cell_type": "markdown",
      "source": [
        "Row or Column sum and mean"
      ],
      "metadata": {
        "id": "64VKR1qnmO8H"
      }
    },
    {
      "cell_type": "code",
      "source": [
        "import numpy as np\n",
        "\n",
        "x=np.array([[1,2,3],[4,5,6],[7,8,9]])\n",
        "print(x)\n",
        "print(x.sum(axis=0))\n",
        "print(x.sum(axis=1))"
      ],
      "metadata": {
        "colab": {
          "base_uri": "https://localhost:8080/"
        },
        "id": "9TuLgj-LmVAI",
        "outputId": "028b4de5-67e5-4308-b588-f8dba8b0e363"
      },
      "execution_count": 3,
      "outputs": [
        {
          "output_type": "stream",
          "name": "stdout",
          "text": [
            "[[1 2 3]\n",
            " [4 5 6]\n",
            " [7 8 9]]\n",
            "[12 15 18]\n",
            "[ 6 15 24]\n"
          ]
        }
      ]
    },
    {
      "cell_type": "markdown",
      "source": [
        "Zeroes ,Ones and empty\n",
        "\n",
        "np.zeros-> initializes the values of a matrix to 0\n",
        "\n",
        "np.ones->initializes the values of a matrix to 0\n",
        "\n",
        "np.empty->initializes the values of a matrix to some random values"
      ],
      "metadata": {
        "id": "VRpvNbFWm6gV"
      }
    },
    {
      "cell_type": "code",
      "source": [
        "x=np.zeros((2,2))\n",
        "print(x)\n",
        "y=np.ones((2,2))\n",
        "print(y)\n",
        "z=np.empty((2,3))\n",
        "print(z)"
      ],
      "metadata": {
        "colab": {
          "base_uri": "https://localhost:8080/"
        },
        "id": "StFDJYranmBu",
        "outputId": "89772964-d81b-42b9-eba0-d353845d174c"
      },
      "execution_count": 5,
      "outputs": [
        {
          "output_type": "stream",
          "name": "stdout",
          "text": [
            "[[0. 0.]\n",
            " [0. 0.]]\n",
            "[[1. 1.]\n",
            " [1. 1.]]\n",
            "[[5.04741003e-315 0.00000000e+000 6.55430404e-310]\n",
            " [4.85721075e-317 6.55428310e-310 6.55428310e-310]]\n"
          ]
        }
      ]
    },
    {
      "cell_type": "markdown",
      "source": [
        "LISTS, TUPLES TO NUMPY"
      ],
      "metadata": {
        "id": "_Q4V_pf-nxru"
      }
    },
    {
      "cell_type": "code",
      "source": [
        "l=[1,2,3]\n",
        "print(type(l))\n",
        "t=(1,2,3)\n",
        "print(type(t))\n",
        "a=np.asarray(l)\n",
        "print(type(a))\n",
        "b=np.asarray(t)\n",
        "print(type(b))"
      ],
      "metadata": {
        "colab": {
          "base_uri": "https://localhost:8080/"
        },
        "id": "s9kjjtg1n3ji",
        "outputId": "3d4da9ae-a299-42f1-ed3d-e5a2a448df3c"
      },
      "execution_count": 7,
      "outputs": [
        {
          "output_type": "stream",
          "name": "stdout",
          "text": [
            "<class 'list'>\n",
            "<class 'tuple'>\n",
            "<class 'numpy.ndarray'>\n",
            "<class 'numpy.ndarray'>\n"
          ]
        }
      ]
    },
    {
      "cell_type": "markdown",
      "source": [
        "HOW CAN WE JOIN TWO ARRAYS? CONCATENATION"
      ],
      "metadata": {
        "id": "FPpyfi2LoHqP"
      }
    },
    {
      "cell_type": "code",
      "source": [
        "arr1=np.array([[1,2,3],[4,5,6]])\n",
        "arr2=np.array([[41,51,61],[7,8,9]])\n",
        "arr=np.concatenate((arr1,arr2))\n",
        "print(arr)"
      ],
      "metadata": {
        "colab": {
          "base_uri": "https://localhost:8080/"
        },
        "id": "MO7ELAugoMcQ",
        "outputId": "501e3d2b-470d-4bac-e135-5214ea15ff5d"
      },
      "execution_count": 10,
      "outputs": [
        {
          "output_type": "stream",
          "name": "stdout",
          "text": [
            "[[ 1  2  3]\n",
            " [ 4  5  6]\n",
            " [41 51 61]\n",
            " [ 7  8  9]]\n"
          ]
        }
      ]
    },
    {
      "cell_type": "markdown",
      "source": [
        "hstack VS vstack\n",
        "\n",
        "\n",
        "hstack can append data horizontally\n",
        "\n",
        "vstck can append data vertically"
      ],
      "metadata": {
        "id": "ouHkdyXVorBS"
      }
    },
    {
      "cell_type": "code",
      "source": [
        "a=np.array([21,22,23])\n",
        "b=np.array([98,23,34])\n",
        "s=np.hstack((a,b))\n",
        "print(s)\n",
        "s=np.vstack((a,b))\n",
        "print(s)"
      ],
      "metadata": {
        "colab": {
          "base_uri": "https://localhost:8080/"
        },
        "id": "v3FLvZJuovNO",
        "outputId": "916219de-07a0-4b12-a0ac-101e6c07aa44"
      },
      "execution_count": 11,
      "outputs": [
        {
          "output_type": "stream",
          "name": "stdout",
          "text": [
            "[21 22 23 98 23 34]\n",
            "[[21 22 23]\n",
            " [98 23 34]]\n"
          ]
        }
      ]
    },
    {
      "cell_type": "code",
      "source": [
        "arr=np.array([1,2,3,4,5,6])\n",
        "newarr=np.array_split(arr,5)\n",
        "print(newarr)"
      ],
      "metadata": {
        "colab": {
          "base_uri": "https://localhost:8080/"
        },
        "id": "J59lQ8C3pRK6",
        "outputId": "22648528-783a-4bae-a9d6-a89f51a437d5"
      },
      "execution_count": 17,
      "outputs": [
        {
          "output_type": "stream",
          "name": "stdout",
          "text": [
            "[array([1, 2]), array([3]), array([4]), array([5]), array([6])]\n"
          ]
        }
      ]
    },
    {
      "cell_type": "code",
      "source": [
        "arr=np.array(['a','b','c','d','e','f','g'])\n",
        "print(type(arr))"
      ],
      "metadata": {
        "colab": {
          "base_uri": "https://localhost:8080/"
        },
        "id": "TYn7JzkKpOMl",
        "outputId": "c2620d54-4ca6-498a-fbe1-74260bad44e1"
      },
      "execution_count": 20,
      "outputs": [
        {
          "output_type": "stream",
          "name": "stdout",
          "text": [
            "<class 'numpy.ndarray'>\n"
          ]
        }
      ]
    },
    {
      "cell_type": "markdown",
      "source": [
        "where True yield x , otherwise yield y"
      ],
      "metadata": {
        "id": "fZvoPRJFqAkZ"
      }
    },
    {
      "cell_type": "code",
      "source": [
        "arr=np.array([1,2,3,4,5,4,2,4])\n",
        "x=np.where(arr==4)\n",
        "print(x,type(x))"
      ],
      "metadata": {
        "colab": {
          "base_uri": "https://localhost:8080/"
        },
        "id": "XSeX9_yRqAUA",
        "outputId": "d8c97243-9359-4fc2-dd97-a18e299325cf"
      },
      "execution_count": 24,
      "outputs": [
        {
          "output_type": "stream",
          "name": "stdout",
          "text": [
            "(array([3, 5, 7]),) <class 'tuple'>\n"
          ]
        }
      ]
    },
    {
      "cell_type": "code",
      "source": [
        "a=np.arange(10)\n",
        "np.where(a<5,a,a*10) #if a<5 then print a else print a*10\n"
      ],
      "metadata": {
        "colab": {
          "base_uri": "https://localhost:8080/"
        },
        "id": "NbBxAmPRqc35",
        "outputId": "af47b044-1acf-4730-ea82-e372b61a120d"
      },
      "execution_count": 26,
      "outputs": [
        {
          "output_type": "execute_result",
          "data": {
            "text/plain": [
              "array([ 0,  1,  2,  3,  4, 50, 60, 70, 80, 90])"
            ]
          },
          "metadata": {},
          "execution_count": 26
        }
      ]
    },
    {
      "cell_type": "markdown",
      "source": [
        "SORTING"
      ],
      "metadata": {
        "id": "zeweh-FIrU97"
      }
    },
    {
      "cell_type": "code",
      "source": [
        "print(np.sort(arr))"
      ],
      "metadata": {
        "colab": {
          "base_uri": "https://localhost:8080/"
        },
        "id": "uXe7cp0urUUi",
        "outputId": "7d3a3523-5e80-4577-a838-a86ae9c929c9"
      },
      "execution_count": 28,
      "outputs": [
        {
          "output_type": "stream",
          "name": "stdout",
          "text": [
            "[1 2 2 3 4 4 4 5]\n"
          ]
        }
      ]
    },
    {
      "cell_type": "code",
      "source": [
        "a=np.array(['apple','cherry','banana','guava','blueberry'])\n",
        "np.sort(a)"
      ],
      "metadata": {
        "colab": {
          "base_uri": "https://localhost:8080/"
        },
        "id": "RiOKK3Udrg6a",
        "outputId": "c93a6eeb-a320-4f18-862d-2adc4267fdad"
      },
      "execution_count": 29,
      "outputs": [
        {
          "output_type": "execute_result",
          "data": {
            "text/plain": [
              "array(['apple', 'banana', 'blueberry', 'cherry', 'guava'], dtype='<U9')"
            ]
          },
          "metadata": {},
          "execution_count": 29
        }
      ]
    },
    {
      "cell_type": "markdown",
      "source": [
        "RANDOM NUMBER GENERATION"
      ],
      "metadata": {
        "id": "q6PRk3MbsmED"
      }
    },
    {
      "cell_type": "code",
      "source": [
        "from numpy import random\n",
        "a=random.randint(100)\n",
        "print(a)\n",
        "x=random.randint(1000,size=6)\n",
        "print(x)\n",
        "y=random.randint(100,size=(3,5))\n",
        "print(y)"
      ],
      "metadata": {
        "colab": {
          "base_uri": "https://localhost:8080/"
        },
        "id": "3txQx4ydsrla",
        "outputId": "12d35052-df4a-4aa5-88b3-d2cb9d92d651"
      },
      "execution_count": 34,
      "outputs": [
        {
          "output_type": "stream",
          "name": "stdout",
          "text": [
            "85\n",
            "[646 606 928 714 496 386]\n",
            "[[35  0 90 34 40]\n",
            " [60 96 82  6  7]\n",
            " [82 91 42 27 14]]\n"
          ]
        }
      ]
    },
    {
      "cell_type": "markdown",
      "source": [
        "REAL-VALUED DISTRIBUTION"
      ],
      "metadata": {
        "id": "kM6gvYIgtKLD"
      }
    },
    {
      "cell_type": "code",
      "source": [
        "x=random.rand()\n",
        "print(x)\n",
        "y=random.uniform(5,10)\n",
        "print(y)"
      ],
      "metadata": {
        "colab": {
          "base_uri": "https://localhost:8080/"
        },
        "id": "hJWgr55htOfW",
        "outputId": "56d1328d-e6fb-4992-f227-eeb5032f0b99"
      },
      "execution_count": 36,
      "outputs": [
        {
          "output_type": "stream",
          "name": "stdout",
          "text": [
            "0.9727324862475141\n",
            "9.967098088017272\n"
          ]
        }
      ]
    },
    {
      "cell_type": "markdown",
      "source": [
        "FUNCTIONS FOR SEQUENCES"
      ],
      "metadata": {
        "id": "7ak6zhDqteCT"
      }
    },
    {
      "cell_type": "code",
      "source": [
        "x=random.choice([3,4,5,6])\n",
        "print(x)\n",
        "x=random.choice([3,4,5,6],size=(3,))#1 row with 3 columns\n",
        "print(x)\n",
        "x=random.choice([3,4,5,6],size=(3,5))#3 rows with 5 columns\n",
        "print(x)"
      ],
      "metadata": {
        "colab": {
          "base_uri": "https://localhost:8080/"
        },
        "id": "QrPP6iPJthNj",
        "outputId": "cba2fed2-7d8d-44ed-a4b5-d3854eb0bf6b"
      },
      "execution_count": 43,
      "outputs": [
        {
          "output_type": "stream",
          "name": "stdout",
          "text": [
            "3\n",
            "[4 6 4]\n",
            "[[6 5 6 4 3]\n",
            " [4 5 6 5 6]\n",
            " [3 3 3 4 5]]\n"
          ]
        }
      ]
    },
    {
      "cell_type": "markdown",
      "source": [
        "BROADCASTIING"
      ],
      "metadata": {
        "id": "0aj_Rh-uuUPm"
      }
    },
    {
      "cell_type": "code",
      "source": [
        "arr=np.array([0,1,2,3,4,5,6,7,8,9,10,11,12,13])\n",
        "arr[0:5]=22\n",
        "print(arr)"
      ],
      "metadata": {
        "colab": {
          "base_uri": "https://localhost:8080/"
        },
        "id": "AEEWk1DluXtN",
        "outputId": "fd6f645e-0816-46ea-fe06-4f4754e800c7"
      },
      "execution_count": 44,
      "outputs": [
        {
          "output_type": "stream",
          "name": "stdout",
          "text": [
            "[22 22 22 22 22  5  6  7  8  9 10 11 12 13]\n"
          ]
        }
      ]
    },
    {
      "cell_type": "markdown",
      "source": [
        "Create a NumPy array of intergers from 1 to 10 and print its size shape and data type"
      ],
      "metadata": {
        "id": "c4Voh5CEwtQ-"
      }
    },
    {
      "cell_type": "code",
      "source": [
        "\n",
        "a=np.array([1,2,3,4,5,6,7,8,9,10])\n",
        "print(a)\n",
        "print(a.shape)\n",
        "print(a.size)\n",
        "print(a.dtype)\n"
      ],
      "metadata": {
        "colab": {
          "base_uri": "https://localhost:8080/"
        },
        "id": "qioB-CvUvNzr",
        "outputId": "62e308df-7059-4576-e866-6d4dc138d806"
      },
      "execution_count": 45,
      "outputs": [
        {
          "output_type": "stream",
          "name": "stdout",
          "text": [
            "[ 1  2  3  4  5  6  7  8  9 10]\n",
            "(10,)\n",
            "10\n",
            "int64\n"
          ]
        }
      ]
    },
    {
      "cell_type": "markdown",
      "source": [
        "Create a 2D NumPy array of shape (3, 3) with values from 1 to 9 and display:\n",
        "\n",
        "● Number of dimensions (ndim)\n",
        "\n",
        "● Shape\n",
        "\n",
        "● Sum of all elements"
      ],
      "metadata": {
        "id": "l4pWI58rwlKO"
      }
    },
    {
      "cell_type": "code",
      "source": [
        "a=np.array([[1,2,3],[4,5,6],[7,8,9]])\n",
        "print(\"dimension\",a.ndim)\n",
        "print(\"shape\",a.shape)\n",
        "print(\"sum\",np.sum(a))"
      ],
      "metadata": {
        "colab": {
          "base_uri": "https://localhost:8080/"
        },
        "id": "zSI71QHdv-L0",
        "outputId": "d4a9bab6-9090-4ae0-f0d4-db8aab4287f6"
      },
      "execution_count": 51,
      "outputs": [
        {
          "output_type": "stream",
          "name": "stdout",
          "text": [
            "dimension 2\n",
            "shape (3, 3)\n",
            "sum 45\n"
          ]
        }
      ]
    },
    {
      "cell_type": "markdown",
      "source": [
        "Create an array of 5 zeros and another of 5 ones. Multiply both and display the result."
      ],
      "metadata": {
        "id": "J344-hKCxo53"
      }
    },
    {
      "cell_type": "code",
      "source": [
        "a=np.zeros(5)\n",
        "b=np.ones(5)\n",
        "x=np.multiply(a,b)\n",
        "print(x)"
      ],
      "metadata": {
        "colab": {
          "base_uri": "https://localhost:8080/"
        },
        "id": "4T8-AyWCxp6M",
        "outputId": "04dda88e-1281-4df4-913e-acd30265cde7"
      },
      "execution_count": 56,
      "outputs": [
        {
          "output_type": "stream",
          "name": "stdout",
          "text": [
            "[0. 0. 0. 0. 0.]\n"
          ]
        }
      ]
    },
    {
      "cell_type": "markdown",
      "source": [
        "Create an array of even numbers between 20 and 40. Use slicing to display the first 3\n",
        "elements."
      ],
      "metadata": {
        "id": "VHAoj2mkyBax"
      }
    },
    {
      "cell_type": "code",
      "source": [
        "a=np.arange(20,41,2)\n",
        "print(a)\n",
        "print(a[0:3])"
      ],
      "metadata": {
        "colab": {
          "base_uri": "https://localhost:8080/"
        },
        "id": "4_68K0GjyTQf",
        "outputId": "57faad0e-4238-41d5-c14e-6c5761c82f88"
      },
      "execution_count": 58,
      "outputs": [
        {
          "output_type": "stream",
          "name": "stdout",
          "text": [
            "[20 22 24 26 28 30 32 34 36 38 40]\n",
            "[20 22 24]\n"
          ]
        }
      ]
    },
    {
      "cell_type": "markdown",
      "source": [
        "Reshape a 1D array of 12 elements into a 3x4 matrix and calculate the sum along axis=0 and\n",
        "axis=1."
      ],
      "metadata": {
        "id": "B4kIrzyGy7D9"
      }
    },
    {
      "cell_type": "code",
      "source": [
        "#Reshape a 1D array of 12 elements into a 3x4 matrix and calculate the sum along axis=0 and axis=1.\n",
        "a=np.array([2,45,63,1,78,8,6,4,9,99,0,5])\n",
        "b=a.reshape(3,4)\n",
        "print(b)\n",
        "print(np.sum(b,axis=0))\n",
        "print(np.sum(b,axis=1))"
      ],
      "metadata": {
        "colab": {
          "base_uri": "https://localhost:8080/"
        },
        "id": "329H-iJGy8O6",
        "outputId": "295b8606-08e1-459a-bbf4-ecf0b7f2e340"
      },
      "execution_count": 62,
      "outputs": [
        {
          "output_type": "stream",
          "name": "stdout",
          "text": [
            "[[ 2 45 63  1]\n",
            " [78  8  6  4]\n",
            " [ 9 99  0  5]]\n",
            "[ 89 152  69  10]\n",
            "[111  96 113]\n"
          ]
        }
      ]
    },
    {
      "cell_type": "markdown",
      "source": [
        "Create a 5x5 identity matrix using NumPy."
      ],
      "metadata": {
        "id": "ThtHFS6SzhgT"
      }
    },
    {
      "cell_type": "code",
      "source": [
        "#Create a 5x5 identity matrix using NumPy.\n",
        "a=np.identity(5)\n",
        "print(a)"
      ],
      "metadata": {
        "colab": {
          "base_uri": "https://localhost:8080/"
        },
        "id": "sYUTciZKzimE",
        "outputId": "315e785d-c6d5-45c2-cd57-83fa56f76552"
      },
      "execution_count": 64,
      "outputs": [
        {
          "output_type": "stream",
          "name": "stdout",
          "text": [
            "[[1. 0. 0. 0. 0.]\n",
            " [0. 1. 0. 0. 0.]\n",
            " [0. 0. 1. 0. 0.]\n",
            " [0. 0. 0. 1. 0.]\n",
            " [0. 0. 0. 0. 1.]]\n"
          ]
        }
      ]
    },
    {
      "cell_type": "markdown",
      "source": [
        "Create a 1D array of 10 random integers between 1 and 100. Find the maximum and\n",
        "minimum values and their indices."
      ],
      "metadata": {
        "id": "vpN8YFHS0IbG"
      }
    },
    {
      "cell_type": "code",
      "source": [
        "a=random.randint(100,size=10)\n",
        "maxi=max(a)\n",
        "mini=min(a)\n",
        "print(a)\n",
        "print(maxi,mini)\n",
        "for i in range(10):\n",
        "  if(a[i]==maxi):\n",
        "    print(\"max index=\",i)\n",
        "  elif(a[i]==mini):\n",
        "    print(\"min index=\",i)"
      ],
      "metadata": {
        "colab": {
          "base_uri": "https://localhost:8080/"
        },
        "id": "6FQZgGci0IIW",
        "outputId": "d029c8e0-eb54-42e6-bc25-d1987a19a820"
      },
      "execution_count": 69,
      "outputs": [
        {
          "output_type": "stream",
          "name": "stdout",
          "text": [
            "[32 45 33 79 45 53 33 90 77 63]\n",
            "90 32\n",
            "min index= 0\n",
            "max index= 7\n"
          ]
        }
      ]
    },
    {
      "cell_type": "markdown",
      "source": [
        "Generate a NumPy array of 6 float numbers between 0 and 1 using linspace. Round the\n",
        "values to 2 decimal places."
      ],
      "metadata": {
        "id": "plQQXk491SV_"
      }
    },
    {
      "cell_type": "code",
      "source": [
        "#Generate a NumPy array of 6 float numbers between 0 and 1 using linspace. Round thevalues to 2 decimal places.\n",
        "a=np.linspace(0,1,6,dtype=float)\n",
        "print(a)\n",
        "b=np.round(a,2)\n",
        "print(b)"
      ],
      "metadata": {
        "colab": {
          "base_uri": "https://localhost:8080/"
        },
        "id": "jM0C566l1UM9",
        "outputId": "342890fd-a302-43bd-f524-ff81e32d92f2"
      },
      "execution_count": 75,
      "outputs": [
        {
          "output_type": "stream",
          "name": "stdout",
          "text": [
            "[0.  0.2 0.4 0.6 0.8 1. ]\n",
            "[0.  0.2 0.4 0.6 0.8 1. ]\n"
          ]
        }
      ]
    },
    {
      "cell_type": "markdown",
      "source": [
        "Create a NumPy array with some repeated values and remove the duplicates."
      ],
      "metadata": {
        "id": "XY1ztvWn2nOn"
      }
    },
    {
      "cell_type": "code",
      "source": [
        "#Create a NumPy array with some repeated values and remove the duplicates.\n",
        "a=np.array([1,2,3,4,5,4,6,2,3,6,8,3])\n",
        "print(a)\n",
        "b=np.unique(a)\n",
        "print(b)"
      ],
      "metadata": {
        "colab": {
          "base_uri": "https://localhost:8080/"
        },
        "id": "HnjhIapY2oDO",
        "outputId": "6bcafe94-804d-4991-dd51-b2a959bcf110"
      },
      "execution_count": 77,
      "outputs": [
        {
          "output_type": "stream",
          "name": "stdout",
          "text": [
            "[1 2 3 4 5 4 6 2 3 6 8 3]\n",
            "[1 2 3 4 5 6 8]\n"
          ]
        }
      ]
    },
    {
      "cell_type": "markdown",
      "source": [
        "Create two 3x3 matrices and perform the following operations:\n",
        "\n",
        "● Matrix addition\n",
        "\n",
        "● Matrix multiplication\n",
        "\n",
        "● Element-wise multiplication"
      ],
      "metadata": {
        "id": "jyz2DaZW24Qx"
      }
    },
    {
      "cell_type": "code",
      "source": [
        "a=np.array([[1,2,3],[4,5,6],[7,8,9]])\n",
        "b=np.array([[11,12,13],[14,15,16],[17,18,19]])\n",
        "print(a)\n",
        "print(b)\n",
        "print(\"Addition:\")\n",
        "print(np.add(a,b))\n",
        "print(\" Matrix Multiplication :\")\n",
        "print(np.dot(a,b))\n",
        "print(\"Element wise multiplication :\")\n",
        "print(np.multiply(a,b))"
      ],
      "metadata": {
        "colab": {
          "base_uri": "https://localhost:8080/"
        },
        "id": "Nd9hAQDz23kg",
        "outputId": "dcf3f254-8db9-4fcd-cc44-62214930f35d"
      },
      "execution_count": 84,
      "outputs": [
        {
          "output_type": "stream",
          "name": "stdout",
          "text": [
            "[[1 2 3]\n",
            " [4 5 6]\n",
            " [7 8 9]]\n",
            "[[11 12 13]\n",
            " [14 15 16]\n",
            " [17 18 19]]\n",
            "Addition:\n",
            "[[12 14 16]\n",
            " [18 20 22]\n",
            " [24 26 28]]\n",
            " Matrix Multiplication :\n",
            "[[ 90  96 102]\n",
            " [216 231 246]\n",
            " [342 366 390]]\n",
            "Element wise multiplication :\n",
            "[[ 11  24  39]\n",
            " [ 56  75  96]\n",
            " [119 144 171]]\n"
          ]
        }
      ]
    }
  ]
}