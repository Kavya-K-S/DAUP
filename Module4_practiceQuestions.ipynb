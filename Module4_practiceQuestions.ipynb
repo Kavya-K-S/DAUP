{
  "nbformat": 4,
  "nbformat_minor": 0,
  "metadata": {
    "colab": {
      "provenance": [],
      "authorship_tag": "ABX9TyOOBS9bkaHZBP7B3YISIVzL",
      "include_colab_link": true
    },
    "kernelspec": {
      "name": "python3",
      "display_name": "Python 3"
    },
    "language_info": {
      "name": "python"
    }
  },
  "cells": [
    {
      "cell_type": "markdown",
      "metadata": {
        "id": "view-in-github",
        "colab_type": "text"
      },
      "source": [
        "<a href=\"https://colab.research.google.com/github/Kavya-K-S/DAUP/blob/main/Module4_practiceQuestions.ipynb\" target=\"_parent\"><img src=\"https://colab.research.google.com/assets/colab-badge.svg\" alt=\"Open In Colab\"/></a>"
      ]
    },
    {
      "cell_type": "code",
      "execution_count": 1,
      "metadata": {
        "colab": {
          "base_uri": "https://localhost:8080/"
        },
        "id": "WLrb2QQN1tKS",
        "outputId": "897f2baf-d385-4d0d-c3e5-50d8e105bd76"
      },
      "outputs": [
        {
          "output_type": "stream",
          "name": "stdout",
          "text": [
            "[[1. 1. 1. 1.]\n",
            " [1. 1. 1. 1.]\n",
            " [1. 1. 1. 1.]]\n"
          ]
        }
      ],
      "source": [
        "#Create a numpy array filled with all ones by defining its shape.\n",
        "import numpy as np\n",
        "arr = np.ones((3, 4))\n",
        "print(arr)"
      ]
    },
    {
      "cell_type": "code",
      "source": [
        "#2. How do you remove rows from a Numpy array that contains non-numeric values?\n",
        "import numpy as np\n",
        "\n",
        "arr = np.array([\n",
        "    [1, 2, 3],\n",
        "    [4, \"x\", 6],\n",
        "    [7, 8, 9],\n",
        "    [\"a\", 11, 12]\n",
        "], dtype=object)\n",
        "\n",
        "mask = []\n",
        "for row in arr:\n",
        "    try:\n",
        "        [float(x) for x in row]\n",
        "        mask.append(True)\n",
        "    except ValueError:\n",
        "        mask.append(False)\n",
        "\n",
        "clean_arr = arr[mask].astype(float)\n",
        "print(clean_arr)\n"
      ],
      "metadata": {
        "colab": {
          "base_uri": "https://localhost:8080/"
        },
        "id": "poPKmNSP2Drm",
        "outputId": "1c7cb09c-99ac-45e3-c08c-cef6490e40c2"
      },
      "execution_count": 3,
      "outputs": [
        {
          "output_type": "execute_result",
          "data": {
            "text/plain": [
              "array(['1', '2', '3', '4', '5', '6', '7', '8', '9'], dtype='<U21')"
            ]
          },
          "metadata": {},
          "execution_count": 3
        }
      ]
    },
    {
      "cell_type": "code",
      "source": [
        "#3. Remove single-dimensional entries from the shape of an array\n",
        "import numpy as np\n",
        "\n",
        "arr = np.array([[[1], [2], [3]]])  # Shape (1, 3, 1)\n",
        "print(\"Original shape:\", arr.shape)\n",
        "\n",
        "squeezed = np.squeeze(arr)\n",
        "print(\"After squeeze shape:\", squeezed.shape)\n",
        "print(squeezed)"
      ],
      "metadata": {
        "colab": {
          "base_uri": "https://localhost:8080/"
        },
        "id": "Ip7ES6gd2fcH",
        "outputId": "8f7be853-ce69-4872-de41-0a0e78ddb347"
      },
      "execution_count": 5,
      "outputs": [
        {
          "output_type": "stream",
          "name": "stdout",
          "text": [
            "Original shape: (1, 3, 1)\n",
            "After squeeze shape: (3,)\n",
            "[1 2 3]\n"
          ]
        }
      ]
    },
    {
      "cell_type": "code",
      "source": [
        "#4. How do you check whether specified values are present in the NumPy array?\n",
        "import numpy as np\n",
        "\n",
        "arr = np.array([10, 20, 30, 40, 50])\n",
        "\n",
        "check = np.isin([20, 60], arr)\n",
        "print(check)"
      ],
      "metadata": {
        "colab": {
          "base_uri": "https://localhost:8080/"
        },
        "id": "VRVC9X8t34xO",
        "outputId": "7b32bb08-8136-45eb-801c-14dce54f9aef"
      },
      "execution_count": 6,
      "outputs": [
        {
          "output_type": "stream",
          "name": "stdout",
          "text": [
            "[ True False]\n"
          ]
        }
      ]
    },
    {
      "cell_type": "code",
      "source": [
        "#Write a NumPy program to sort a given array of shape 2 along the first axis, last axis, and flattened array.\n",
        "import numpy as np\n",
        "\n",
        "arr = np.array([[30, 10, 20],\n",
        "                [60, 40, 50]])\n",
        "\n",
        "print(\"Original Array:\\n\", arr)\n",
        "sorted_axis0 = np.sort(arr, axis=0)\n",
        "print(\"\\nSorted along first axis (axis=0):\\n\", sorted_axis0)\n",
        "sorted_axis1 = np.sort(arr, axis=-1)\n",
        "print(\"\\nSorted along last axis (axis=-1):\\n\", sorted_axis1)\n",
        "sorted_flat = np.sort(arr, axis=None)\n",
        "print(\"\\nSorted flattened array:\\n\", sorted_flat)\n"
      ],
      "metadata": {
        "colab": {
          "base_uri": "https://localhost:8080/"
        },
        "id": "esDugnxU4V5u",
        "outputId": "159e89fe-5f0a-4f87-f0f6-e3f8c478047e"
      },
      "execution_count": 7,
      "outputs": [
        {
          "output_type": "stream",
          "name": "stdout",
          "text": [
            "Original Array:\n",
            " [[30 10 20]\n",
            " [60 40 50]]\n",
            "\n",
            "Sorted along first axis (axis=0):\n",
            " [[30 10 20]\n",
            " [60 40 50]]\n",
            "\n",
            "Sorted along last axis (axis=-1):\n",
            " [[10 20 30]\n",
            " [40 50 60]]\n",
            "\n",
            "Sorted flattened array:\n",
            " [10 20 30 40 50 60]\n"
          ]
        }
      ]
    },
    {
      "cell_type": "code",
      "source": [
        "# 6. Write a NumPy program to create a structured array from a given student name, height,class, and data type. Now sort by class, then height if the classes are equal.\n",
        "students = np.array([('Alice', 5.5, 10),\n",
        "                     ('Bob', 6.0, 9),\n",
        "                     ('Charlie', 5.8, 10),\n",
        "                     ('David', 5.9, 9)],\n",
        "                    dtype=[('name', 'U10'), ('height', 'f4'), ('class', 'i4')])\n",
        "sorted_students = np.sort(students, order=['class', 'height'])\n",
        "print(sorted_students)\n"
      ],
      "metadata": {
        "colab": {
          "base_uri": "https://localhost:8080/"
        },
        "id": "JLXNRo_448z_",
        "outputId": "b398cfcc-e736-4523-b81b-911421fa0b04"
      },
      "execution_count": 8,
      "outputs": [
        {
          "output_type": "stream",
          "name": "stdout",
          "text": [
            "[('David', 5.9,  9) ('Bob', 6. ,  9) ('Alice', 5.5, 10)\n",
            " ('Charlie', 5.8, 10)]\n"
          ]
        }
      ]
    },
    {
      "cell_type": "code",
      "source": [
        "# 7. Write a NumPy program to sort a given complex array using the real part first, then theimaginary part.\n",
        "complex_arr = np.array([2 + 3j, 1 + 7j, 2 + 1j, 1 + 2j])\n",
        "sorted_complex = np.sort_complex(complex_arr)\n",
        "print(sorted_complex)"
      ],
      "metadata": {
        "colab": {
          "base_uri": "https://localhost:8080/"
        },
        "id": "paOuzRxJ5LsM",
        "outputId": "a3f19319-e424-4804-8902-f678cae7f968"
      },
      "execution_count": 9,
      "outputs": [
        {
          "output_type": "stream",
          "name": "stdout",
          "text": [
            "[1.+2.j 1.+7.j 2.+1.j 2.+3.j]\n"
          ]
        }
      ]
    },
    {
      "cell_type": "code",
      "source": [
        "# 8. Write a NumPy program to sort a given array by the nth column.\n",
        "arr = np.array([[10, 2, 5],\n",
        "                [3, 7, 1],\n",
        "                [8, 6, 4]])\n",
        "n = 1\n",
        "sorted_by_col = arr[arr[:, n].argsort()]\n",
        "print(sorted_by_col)\n"
      ],
      "metadata": {
        "colab": {
          "base_uri": "https://localhost:8080/"
        },
        "id": "WiowXeZa5Suf",
        "outputId": "0883ca7a-bf6e-48cc-f7d9-3ba0ccc42065"
      },
      "execution_count": 10,
      "outputs": [
        {
          "output_type": "stream",
          "name": "stdout",
          "text": [
            "[[10  2  5]\n",
            " [ 8  6  4]\n",
            " [ 3  7  1]]\n"
          ]
        }
      ]
    },
    {
      "cell_type": "code",
      "source": [
        "# 9. Calculate the sum of the diagonal elements of a NumPy array\n",
        "arr2 = np.array([[1, 2, 3],\n",
        "                 [4, 5, 6],\n",
        "                 [7, 8, 9]])\n",
        "diag_sum = np.trace(arr2)\n",
        "print(diag_sum)"
      ],
      "metadata": {
        "colab": {
          "base_uri": "https://localhost:8080/"
        },
        "id": "dXMJh26E5XBY",
        "outputId": "8bac28bf-20c6-440d-97f8-fd8be8efea15"
      },
      "execution_count": 11,
      "outputs": [
        {
          "output_type": "stream",
          "name": "stdout",
          "text": [
            "15\n"
          ]
        }
      ]
    },
    {
      "cell_type": "code",
      "source": [
        "# 10. Write a program for Matrix Multiplication in NumPy\n",
        "A = np.array([[1, 2],\n",
        "              [3, 4]])\n",
        "B = np.array([[5, 6],\n",
        "              [7, 8]])\n",
        "C = np.matmul(A, B)\n",
        "print(C)"
      ],
      "metadata": {
        "colab": {
          "base_uri": "https://localhost:8080/"
        },
        "id": "Ha148_cu5bxj",
        "outputId": "9a2c07c7-5354-4d62-d4fa-fb29464c47d0"
      },
      "execution_count": 12,
      "outputs": [
        {
          "output_type": "stream",
          "name": "stdout",
          "text": [
            "[[19 22]\n",
            " [43 50]]\n"
          ]
        }
      ]
    },
    {
      "cell_type": "code",
      "source": [
        "# 11. Multiply matrices of complex numbers using NumPy in Python\n",
        "A = np.array([[1+2j, 2+3j],\n",
        "              [3+4j, 4+5j]])\n",
        "B = np.array([[5+6j, 6+7j],\n",
        "              [7+8j, 8+9j]])\n",
        "C = np.matmul(A, B)\n",
        "print(C)"
      ],
      "metadata": {
        "colab": {
          "base_uri": "https://localhost:8080/"
        },
        "id": "NsIixqYp5dYP",
        "outputId": "fa87bf2e-09da-42de-803f-73ab71dfe6fe"
      },
      "execution_count": 13,
      "outputs": [
        {
          "output_type": "stream",
          "name": "stdout",
          "text": [
            "[[-17. +53.j -19. +61.j]\n",
            " [-21.+105.j -23.+121.j]]\n"
          ]
        }
      ]
    },
    {
      "cell_type": "code",
      "source": [
        "# 12. Compute the covariance matrix of two given NumPy arrays.\n",
        "x = np.array([2.1, 2.5, 3.6, 4.0])\n",
        "y = np.array([8, 10, 12, 14])\n",
        "cov_matrix = np.cov(x, y)\n",
        "print(cov_matrix)"
      ],
      "metadata": {
        "colab": {
          "base_uri": "https://localhost:8080/"
        },
        "id": "rtald9dI5qyS",
        "outputId": "b0216f86-e9e2-41e2-d4b2-1ad25bd4be7a"
      },
      "execution_count": 14,
      "outputs": [
        {
          "output_type": "stream",
          "name": "stdout",
          "text": [
            "[[0.80333333 2.26666667]\n",
            " [2.26666667 6.66666667]]\n"
          ]
        }
      ]
    },
    {
      "cell_type": "code",
      "source": [
        "# 13. Convert covariance matrix to correlation matrix using Python\n",
        "corr_matrix = np.corrcoef(x, y)\n",
        "print(corr_matrix)\n"
      ],
      "metadata": {
        "colab": {
          "base_uri": "https://localhost:8080/"
        },
        "id": "jl18DBEK5t-F",
        "outputId": "83ec492c-0474-4e1d-9a9d-939e9413871f"
      },
      "execution_count": 15,
      "outputs": [
        {
          "output_type": "stream",
          "name": "stdout",
          "text": [
            "[[1.         0.97945704]\n",
            " [0.97945704 1.        ]]\n"
          ]
        }
      ]
    },
    {
      "cell_type": "code",
      "source": [
        "# 14. Write a NumPy program to compute the histogram of nums against the bins.\n",
        "nums = np.array([0, 1, 2, 1, 1, 4, 5, 6, 2, 3, 1])\n",
        "hist, bins = np.histogram(nums, bins=[0, 1, 2, 3, 4, 5, 6])\n",
        "print(hist)\n",
        "print(bins)"
      ],
      "metadata": {
        "colab": {
          "base_uri": "https://localhost:8080/"
        },
        "id": "9SGJ52ly5xbC",
        "outputId": "01773ac8-dc44-41d0-c8d8-89c74a5cc94c"
      },
      "execution_count": 16,
      "outputs": [
        {
          "output_type": "stream",
          "name": "stdout",
          "text": [
            "[1 4 2 1 1 2]\n",
            "[0 1 2 3 4 5 6]\n"
          ]
        }
      ]
    },
    {
      "cell_type": "code",
      "source": [
        "# 15. Write a NumPy program to compute the cross-correlation of two given arrays\n",
        "a = np.array([1, 2, 3])\n",
        "b = np.array([0, 1, 0.5])\n",
        "cross_corr = np.correlate(a, b, mode=\"full\")\n",
        "print(cross_corr)"
      ],
      "metadata": {
        "colab": {
          "base_uri": "https://localhost:8080/"
        },
        "id": "knphZQny501Q",
        "outputId": "f918c803-bae1-4ecb-ec15-698e729de88a"
      },
      "execution_count": 17,
      "outputs": [
        {
          "output_type": "stream",
          "name": "stdout",
          "text": [
            "[0.5 2.  3.5 3.  0. ]\n"
          ]
        }
      ]
    },
    {
      "cell_type": "code",
      "source": [
        "# 16. Write a NumPy program to compute the mean, standard deviation, and variance of a given array along the second axis.\n",
        "arr = np.array([[1, 2, 3],\n",
        "                [4, 5, 6],\n",
        "                [7, 8, 9]])\n",
        "mean = np.mean(arr, axis=1)\n",
        "std = np.std(arr, axis=1)\n",
        "var = np.var(arr, axis=1)\n",
        "print(mean)\n",
        "print(std)\n",
        "print(var)"
      ],
      "metadata": {
        "colab": {
          "base_uri": "https://localhost:8080/"
        },
        "id": "Pt0J69ko53Tg",
        "outputId": "57dfcfd9-8484-4ec2-b187-0db4fe263739"
      },
      "execution_count": 18,
      "outputs": [
        {
          "output_type": "stream",
          "name": "stdout",
          "text": [
            "[2. 5. 8.]\n",
            "[0.81649658 0.81649658 0.81649658]\n",
            "[0.66666667 0.66666667 0.66666667]\n"
          ]
        }
      ]
    }
  ]
}